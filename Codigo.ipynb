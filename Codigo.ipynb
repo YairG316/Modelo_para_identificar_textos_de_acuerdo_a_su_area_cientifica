{
  "cells": [
    {
      "attachments": {},
      "cell_type": "markdown",
      "metadata": {
        "id": "aUf5Tqt0SBHv"
      },
      "source": [
        "# Identificación de textos de acuerdo a su área científica, física, biología o química."
      ]
    },
    {
      "cell_type": "code",
      "execution_count": 1,
      "metadata": {
        "id": "8EbeVSI5HjdO"
      },
      "outputs": [],
      "source": [
        "import numpy as np\n",
        "import pandas as pd\n",
        "import seaborn as sns\n",
        "import matplotlib.pyplot as plt"
      ]
    },
    {
      "attachments": {},
      "cell_type": "markdown",
      "metadata": {
        "id": "LoD5HBJEZuiY"
      },
      "source": [
        "# Carga del conjunto de datos"
      ]
    },
    {
      "cell_type": "code",
      "execution_count": 2,
      "metadata": {
        "colab": {
          "base_uri": "https://localhost:8080/"
        },
        "id": "ddNoMxsxMcZT",
        "outputId": "e9bf2947-f853-473a-f9c6-43bbefb95660"
      },
      "outputs": [
        {
          "name": "stdout",
          "output_type": "stream",
          "text": [
            "Drive already mounted at /content/drive; to attempt to forcibly remount, call drive.mount(\"/content/drive\", force_remount=True).\n"
          ]
        }
      ],
      "source": [
        "from google.colab import drive\n",
        "drive.mount('/content/drive')"
      ]
    },
    {
      "cell_type": "code",
      "execution_count": 3,
      "metadata": {
        "id": "rvzYRDqAZ9Ao"
      },
      "outputs": [],
      "source": [
        "train=pd.read_csv('/content/drive/MyDrive/Datos/dataset/train.csv')\n",
        "test=pd.read_csv('/content/drive/MyDrive/Datos/dataset/test.csv')"
      ]
    },
    {
      "cell_type": "code",
      "execution_count": 4,
      "metadata": {
        "id": "xUYmJa3JRV2p"
      },
      "outputs": [],
      "source": [
        "train[\"Topic\"] = train[\"Topic\"].replace({\"Biology\": \"Biología\", \"Physics\": \"Física\", \"Chemistry\": \"Química\" })"
      ]
    },
    {
      "cell_type": "code",
      "execution_count": 5,
      "metadata": {
        "id": "WR6gXbKHRzlZ"
      },
      "outputs": [],
      "source": [
        "test[\"Topic\"] = test[\"Topic\"].replace({\"Biology\": \"Biología\", \"Physics\": \"Física\", \"Chemistry\": \"Química\" })"
      ]
    },
    {
      "cell_type": "code",
      "execution_count": 6,
      "metadata": {
        "id": "xZfkyQuHZbe5"
      },
      "outputs": [],
      "source": [
        "train_comments = train[['Comment']]\n",
        "train_topic = train[['Topic']]\n",
        "\n",
        "test_comments = test[['Comment']]\n",
        "test_topic = test[['Topic']]"
      ]
    },
    {
      "attachments": {},
      "cell_type": "markdown",
      "metadata": {
        "id": "6Pz0K5GoRxvh"
      },
      "source": [
        "# Visualizacion del conjunto de entrenamiento y prueba"
      ]
    },
    {
      "cell_type": "code",
      "execution_count": 7,
      "metadata": {
        "colab": {
          "base_uri": "https://localhost:8080/"
        },
        "id": "Veu7PrjaaUpy",
        "outputId": "ed111985-18c9-4d8a-c4cf-300ebef27ad6"
      },
      "outputs": [
        {
          "name": "stdout",
          "output_type": "stream",
          "text": [
            "(8695, 1)\n",
            "(8695, 1)\n",
            "(1586, 1)\n",
            "(1586, 1)\n"
          ]
        }
      ],
      "source": [
        "print(train_comments.shape)\n",
        "print(train_topic.shape)\n",
        "\n",
        "print(test_comments.shape)\n",
        "print(test_topic.shape)"
      ]
    },
    {
      "cell_type": "code",
      "execution_count": 8,
      "metadata": {
        "colab": {
          "base_uri": "https://localhost:8080/"
        },
        "id": "DWhh8FSaaK8S",
        "outputId": "fc9f99c3-7a5f-464d-aed0-6e8896babe12"
      },
      "outputs": [
        {
          "name": "stdout",
          "output_type": "stream",
          "text": [
            "Is it so hard to believe that there exist particulars out that that we can't detect with anything we've invented so far.\\n\\nI mean look how long it took humans to find out a way to detect radiation.\n",
            "Física\n"
          ]
        }
      ],
      "source": [
        "print(train_comments['Comment'][1])\n",
        "print(train_topic['Topic'][1])"
      ]
    },
    {
      "cell_type": "code",
      "execution_count": 9,
      "metadata": {
        "colab": {
          "base_uri": "https://localhost:8080/",
          "height": 420
        },
        "id": "0t2Lfw5AHq6p",
        "outputId": "05f4e70e-f886-428e-d7a3-f2ccbcae218d"
      },
      "outputs": [
        {
          "data": {
            "image/png": "[encoded data removed]",
            "text/plain": [
              "<Figure size 800x400 with 1 Axes>"
            ]
          },
          "metadata": {},
          "output_type": "display_data"
        }
      ],
      "source": [
        "plt.figure(figsize=(8,4))\n",
        "sns.countplot(x = train_topic['Topic'])\n",
        "plt.title(\"Tema vs Comentarios (Conjunto de Entrenamiento)\",fontsize = 18,fontweight = 'bold')\n",
        "plt.xlabel(\"Tema\",fontsize = 13,fontweight = 'bold')\n",
        "plt.ylabel(\"Comentarios\",fontsize=13,fontweight = 'bold')\n",
        "plt.show()"
      ]
    },
    {
      "attachments": {},
      "cell_type": "markdown",
      "metadata": {
        "id": "GBUwqKMuNLRA"
      },
      "source": [
        "Para el conjunto de entrenamiento, tenemos:\n",
        "*   41.3% de comentarios para Biologia\n",
        "*   25.1% de comentarios para Fisica\n",
        "*   33.6% de comentarios para Quimica"
      ]
    },
    {
      "cell_type": "code",
      "execution_count": 10,
      "metadata": {
        "colab": {
          "base_uri": "https://localhost:8080/",
          "height": 420
        },
        "id": "T6lh_BOpIxrZ",
        "outputId": "12ab5859-93fd-4bdc-fda3-e44c4d1c7778"
      },
      "outputs": [
        {
          "data": {
            "image/png": "[encoded data removed]",
            "text/plain": [
              "<Figure size 800x400 with 1 Axes>"
            ]
          },
          "metadata": {},
          "output_type": "display_data"
        }
      ],
      "source": [
        "plt.figure(figsize=(8,4))\n",
        "sns.countplot(x = test_topic['Topic'])\n",
        "plt.title(\"Tema vs Comentarios (Conjunto de Prueba)\",fontsize = 18,fontweight = 'bold')\n",
        "plt.xlabel(\"Tema\",fontsize = 13,fontweight = 'bold')\n",
        "plt.ylabel(\"Comentarios\",fontsize=13,fontweight = 'bold')\n",
        "plt.show()"
      ]
    },
    {
      "attachments": {},
      "cell_type": "markdown",
      "metadata": {
        "id": "yK216F4IOKv3"
      },
      "source": [
        "Para el conjunto de prueba, tenemos:\n",
        "*   38.7% de comentarios para Biologia\n",
        "*   29.4% de comentarios para Fisica\n",
        "*   31.9% de comentarios para Quimica"
      ]
    },
    {
      "attachments": {},
      "cell_type": "markdown",
      "metadata": {
        "id": "TgdPaJLSYsIn"
      },
      "source": [
        "# Preprocesamiento de datos"
      ]
    },
    {
      "attachments": {},
      "cell_type": "markdown",
      "metadata": {
        "id": "58bH9N3Yii-E"
      },
      "source": [
        "Eliminamos los emojis de los comentarios"
      ]
    },
    {
      "cell_type": "code",
      "execution_count": 11,
      "metadata": {
        "id": "CxqZE2Jpe6xj"
      },
      "outputs": [],
      "source": [
        "import re\n",
        "\n",
        "def EliminarEmoji(text):\n",
        "    regrex_pattern = re.compile(pattern = \"[\"\n",
        "        u\"\\U0001F600-\\U0001F64F\"  # emoticons\n",
        "        u\"\\U0001F300-\\U0001F5FF\"  # symbols & pictographs\n",
        "        u\"\\U0001F680-\\U0001F6FF\"  # transport & map symbols\n",
        "        u\"\\U0001F1E0-\\U0001F1FF\"  # flags (iOS)\n",
        "        u\"\\U00002702-\\U000027B0\"\n",
        "        u\"\\U000024C2-\\U0001F251\"\n",
        "                           \"]+\", flags = re.UNICODE)\n",
        "    return regrex_pattern.sub(r'',text)"
      ]
    },
    {
      "cell_type": "code",
      "execution_count": 12,
      "metadata": {
        "id": "z7fh2zSQdjep"
      },
      "outputs": [],
      "source": [
        "train_comments = train_comments.assign(Sin_Emoji = train_comments['Comment'].apply(lambda x: EliminarEmoji(x)) )"
      ]
    },
    {
      "cell_type": "code",
      "execution_count": 13,
      "metadata": {
        "colab": {
          "base_uri": "https://localhost:8080/",
          "height": 424
        },
        "id": "IJDTANEleRuu",
        "outputId": "1f7a74f0-8301-4dec-f9bf-ac427ef45d15"
      },
      "outputs": [
        {
          "data": {
            "text/html": [
              "\n",
              "  <div id=\"df-7aa962e4-44e2-4e48-97f4-da6d5f74fe92\" class=\"colab-df-container\">\n",
              "    <div>\n",
              "<style scoped>\n",
              "    .dataframe tbody tr th:only-of-type {\n",
              "        vertical-align: middle;\n",
              "    }\n",
              "\n",
              "    .dataframe tbody tr th {\n",
              "        vertical-align: top;\n",
              "    }\n",
              "\n",
              "    .dataframe thead th {\n",
              "        text-align: right;\n",
              "    }\n",
              "</style>\n",
              "<table border=\"1\" class=\"dataframe\">\n",
              "  <thead>\n",
              "    <tr style=\"text-align: right;\">\n",
              "      <th></th>\n",
              "      <th>Comment</th>\n",
              "      <th>Sin_Emoji</th>\n",
              "    </tr>\n",
              "  </thead>\n",
              "  <tbody>\n",
              "    <tr>\n",
              "      <th>0</th>\n",
              "      <td>A few things. You might have negative- frequen...</td>\n",
              "      <td>A few things. You might have negative- frequen...</td>\n",
              "    </tr>\n",
              "    <tr>\n",
              "      <th>1</th>\n",
              "      <td>Is it so hard to believe that there exist part...</td>\n",
              "      <td>Is it so hard to believe that there exist part...</td>\n",
              "    </tr>\n",
              "    <tr>\n",
              "      <th>2</th>\n",
              "      <td>There are bees</td>\n",
              "      <td>There are bees</td>\n",
              "    </tr>\n",
              "    <tr>\n",
              "      <th>3</th>\n",
              "      <td>I'm a medication technician. And that's alot o...</td>\n",
              "      <td>I'm a medication technician. And that's alot o...</td>\n",
              "    </tr>\n",
              "    <tr>\n",
              "      <th>4</th>\n",
              "      <td>Cesium is such a pretty metal.</td>\n",
              "      <td>Cesium is such a pretty metal.</td>\n",
              "    </tr>\n",
              "    <tr>\n",
              "      <th>...</th>\n",
              "      <td>...</td>\n",
              "      <td>...</td>\n",
              "    </tr>\n",
              "    <tr>\n",
              "      <th>8690</th>\n",
              "      <td>I make similar observations over the last week...</td>\n",
              "      <td>I make similar observations over the last week...</td>\n",
              "    </tr>\n",
              "    <tr>\n",
              "      <th>8691</th>\n",
              "      <td>You would know.</td>\n",
              "      <td>You would know.</td>\n",
              "    </tr>\n",
              "    <tr>\n",
              "      <th>8692</th>\n",
              "      <td>Also use the correct number of sig figs</td>\n",
              "      <td>Also use the correct number of sig figs</td>\n",
              "    </tr>\n",
              "    <tr>\n",
              "      <th>8693</th>\n",
              "      <td>What about the ethical delimmas,  groundbreaki...</td>\n",
              "      <td>What about the ethical delimmas,  groundbreaki...</td>\n",
              "    </tr>\n",
              "    <tr>\n",
              "      <th>8694</th>\n",
              "      <td>I would like to know too.</td>\n",
              "      <td>I would like to know too.</td>\n",
              "    </tr>\n",
              "  </tbody>\n",
              "</table>\n",
              "<p>8695 rows × 2 columns</p>\n",
              "</div>\n",
              "    <div class=\"colab-df-buttons\">\n",
              "\n",
              "  <div class=\"colab-df-container\">\n",
              "    <button class=\"colab-df-convert\" onclick=\"convertToInteractive('df-7aa962e4-44e2-4e48-97f4-da6d5f74fe92')\"\n",
              "            title=\"Convert this dataframe to an interactive table.\"\n",
              "            style=\"display:none;\">\n",
              "\n",
              "  <svg xmlns=\"http://www.w3.org/2000/svg\" height=\"24px\" viewBox=\"0 -960 960 960\">\n",
              "    <path d=\"M120-120v-720h720v720H120Zm60-500h600v-160H180v160Zm220 220h160v-160H400v160Zm0 220h160v-160H400v160ZM180-400h160v-160H180v160Zm440 0h160v-160H620v160ZM180-180h160v-160H180v160Zm440 0h160v-160H620v160Z\"/>\n",
              "  </svg>\n",
              "    </button>\n",
              "\n",
              "  <style>\n",
              "    .colab-df-container {\n",
              "      display:flex;\n",
              "      gap: 12px;\n",
              "    }\n",
              "\n",
              "    .colab-df-convert {\n",
              "      background-color: #E8F0FE;\n",
              "      border: none;\n",
              "      border-radius: 50%;\n",
              "      cursor: pointer;\n",
              "      display: none;\n",
              "      fill: #1967D2;\n",
              "      height: 32px;\n",
              "      padding: 0 0 0 0;\n",
              "      width: 32px;\n",
              "    }\n",
              "\n",
              "    .colab-df-convert:hover {\n",
              "      background-color: #E2EBFA;\n",
              "      box-shadow: 0px 1px 2px rgba(60, 64, 67, 0.3), 0px 1px 3px 1px rgba(60, 64, 67, 0.15);\n",
              "      fill: #174EA6;\n",
              "    }\n",
              "\n",
              "    .colab-df-buttons div {\n",
              "      margin-bottom: 4px;\n",
              "    }\n",
              "\n",
              "    [theme=dark] .colab-df-convert {\n",
              "      background-color: #3B4455;\n",
              "      fill: #D2E3FC;\n",
              "    }\n",
              "\n",
              "    [theme=dark] .colab-df-convert:hover {\n",
              "      background-color: #434B5C;\n",
              "      box-shadow: 0px 1px 3px 1px rgba(0, 0, 0, 0.15);\n",
              "      filter: drop-shadow(0px 1px 2px rgba(0, 0, 0, 0.3));\n",
              "      fill: #FFFFFF;\n",
              "    }\n",
              "  </style>\n",
              "\n",
              "    <script>\n",
              "      const buttonEl =\n",
              "        document.querySelector('#df-7aa962e4-44e2-4e48-97f4-da6d5f74fe92 button.colab-df-convert');\n",
              "      buttonEl.style.display =\n",
              "        google.colab.kernel.accessAllowed ? 'block' : 'none';\n",
              "\n",
              "      async function convertToInteractive(key) {\n",
              "        const element = document.querySelector('#df-7aa962e4-44e2-4e48-97f4-da6d5f74fe92');\n",
              "        const dataTable =\n",
              "          await google.colab.kernel.invokeFunction('convertToInteractive',\n",
              "                                                    [key], {});\n",
              "        if (!dataTable) return;\n",
              "\n",
              "        const docLinkHtml = 'Like what you see? Visit the ' +\n",
              "          '<a target=\"_blank\" href=https://colab.research.google.com/notebooks/data_table.ipynb>data table notebook</a>'\n",
              "          + ' to learn more about interactive tables.';\n",
              "        element.innerHTML = '';\n",
              "        dataTable['output_type'] = 'display_data';\n",
              "        await google.colab.output.renderOutput(dataTable, element);\n",
              "        const docLink = document.createElement('div');\n",
              "        docLink.innerHTML = docLinkHtml;\n",
              "        element.appendChild(docLink);\n",
              "      }\n",
              "    </script>\n",
              "  </div>\n",
              "\n",
              "\n",
              "<div id=\"df-983e355c-1b74-44a3-a5c6-63ae57cbb67f\">\n",
              "  <button class=\"colab-df-quickchart\" onclick=\"quickchart('df-983e355c-1b74-44a3-a5c6-63ae57cbb67f')\"\n",
              "            title=\"Suggest charts\"\n",
              "            style=\"display:none;\">\n",
              "\n",
              "<svg xmlns=\"http://www.w3.org/2000/svg\" height=\"24px\"viewBox=\"0 0 24 24\"\n",
              "     width=\"24px\">\n",
              "    <g>\n",
              "        <path d=\"M19 3H5c-1.1 0-2 .9-2 2v14c0 1.1.9 2 2 2h14c1.1 0 2-.9 2-2V5c0-1.1-.9-2-2-2zM9 17H7v-7h2v7zm4 0h-2V7h2v10zm4 0h-2v-4h2v4z\"/>\n",
              "    </g>\n",
              "</svg>\n",
              "  </button>\n",
              "\n",
              "<style>\n",
              "  .colab-df-quickchart {\n",
              "      --bg-color: #E8F0FE;\n",
              "      --fill-color: #1967D2;\n",
              "      --hover-bg-color: #E2EBFA;\n",
              "      --hover-fill-color: #174EA6;\n",
              "      --disabled-fill-color: #AAA;\n",
              "      --disabled-bg-color: #DDD;\n",
              "  }\n",
              "\n",
              "  [theme=dark] .colab-df-quickchart {\n",
              "      --bg-color: #3B4455;\n",
              "      --fill-color: #D2E3FC;\n",
              "      --hover-bg-color: #434B5C;\n",
              "      --hover-fill-color: #FFFFFF;\n",
              "      --disabled-bg-color: #3B4455;\n",
              "      --disabled-fill-color: #666;\n",
              "  }\n",
              "\n",
              "  .colab-df-quickchart {\n",
              "    background-color: var(--bg-color);\n",
              "    border: none;\n",
              "    border-radius: 50%;\n",
              "    cursor: pointer;\n",
              "    display: none;\n",
              "    fill: var(--fill-color);\n",
              "    height: 32px;\n",
              "    padding: 0;\n",
              "    width: 32px;\n",
              "  }\n",
              "\n",
              "  .colab-df-quickchart:hover {\n",
              "    background-color: var(--hover-bg-color);\n",
              "    box-shadow: 0 1px 2px rgba(60, 64, 67, 0.3), 0 1px 3px 1px rgba(60, 64, 67, 0.15);\n",
              "    fill: var(--button-hover-fill-color);\n",
              "  }\n",
              "\n",
              "  .colab-df-quickchart-complete:disabled,\n",
              "  .colab-df-quickchart-complete:disabled:hover {\n",
              "    background-color: var(--disabled-bg-color);\n",
              "    fill: var(--disabled-fill-color);\n",
              "    box-shadow: none;\n",
              "  }\n",
              "\n",
              "  .colab-df-spinner {\n",
              "    border: 2px solid var(--fill-color);\n",
              "    border-color: transparent;\n",
              "    border-bottom-color: var(--fill-color);\n",
              "    animation:\n",
              "      spin 1s steps(1) infinite;\n",
              "  }\n",
              "\n",
              "  @keyframes spin {\n",
              "    0% {\n",
              "      border-color: transparent;\n",
              "      border-bottom-color: var(--fill-color);\n",
              "      border-left-color: var(--fill-color);\n",
              "    }\n",
              "    20% {\n",
              "      border-color: transparent;\n",
              "      border-left-color: var(--fill-color);\n",
              "      border-top-color: var(--fill-color);\n",
              "    }\n",
              "    30% {\n",
              "      border-color: transparent;\n",
              "      border-left-color: var(--fill-color);\n",
              "      border-top-color: var(--fill-color);\n",
              "      border-right-color: var(--fill-color);\n",
              "    }\n",
              "    40% {\n",
              "      border-color: transparent;\n",
              "      border-right-color: var(--fill-color);\n",
              "      border-top-color: var(--fill-color);\n",
              "    }\n",
              "    60% {\n",
              "      border-color: transparent;\n",
              "      border-right-color: var(--fill-color);\n",
              "    }\n",
              "    80% {\n",
              "      border-color: transparent;\n",
              "      border-right-color: var(--fill-color);\n",
              "      border-bottom-color: var(--fill-color);\n",
              "    }\n",
              "    90% {\n",
              "      border-color: transparent;\n",
              "      border-bottom-color: var(--fill-color);\n",
              "    }\n",
              "  }\n",
              "</style>\n",
              "\n",
              "  <script>\n",
              "    async function quickchart(key) {\n",
              "      const quickchartButtonEl =\n",
              "        document.querySelector('#' + key + ' button');\n",
              "      quickchartButtonEl.disabled = true;  // To prevent multiple clicks.\n",
              "      quickchartButtonEl.classList.add('colab-df-spinner');\n",
              "      try {\n",
              "        const charts = await google.colab.kernel.invokeFunction(\n",
              "            'suggestCharts', [key], {});\n",
              "      } catch (error) {\n",
              "        console.error('Error during call to suggestCharts:', error);\n",
              "      }\n",
              "      quickchartButtonEl.classList.remove('colab-df-spinner');\n",
              "      quickchartButtonEl.classList.add('colab-df-quickchart-complete');\n",
              "    }\n",
              "    (() => {\n",
              "      let quickchartButtonEl =\n",
              "        document.querySelector('#df-983e355c-1b74-44a3-a5c6-63ae57cbb67f button');\n",
              "      quickchartButtonEl.style.display =\n",
              "        google.colab.kernel.accessAllowed ? 'block' : 'none';\n",
              "    })();\n",
              "  </script>\n",
              "</div>\n",
              "    </div>\n",
              "  </div>\n"
            ],
            "text/plain": [
              "                                                Comment  \\\n",
              "0     A few things. You might have negative- frequen...   \n",
              "1     Is it so hard to believe that there exist part...   \n",
              "2                                        There are bees   \n",
              "3     I'm a medication technician. And that's alot o...   \n",
              "4                        Cesium is such a pretty metal.   \n",
              "...                                                 ...   \n",
              "8690  I make similar observations over the last week...   \n",
              "8691                                    You would know.   \n",
              "8692            Also use the correct number of sig figs   \n",
              "8693  What about the ethical delimmas,  groundbreaki...   \n",
              "8694                          I would like to know too.   \n",
              "\n",
              "                                              Sin_Emoji  \n",
              "0     A few things. You might have negative- frequen...  \n",
              "1     Is it so hard to believe that there exist part...  \n",
              "2                                        There are bees  \n",
              "3     I'm a medication technician. And that's alot o...  \n",
              "4                        Cesium is such a pretty metal.  \n",
              "...                                                 ...  \n",
              "8690  I make similar observations over the last week...  \n",
              "8691                                    You would know.  \n",
              "8692            Also use the correct number of sig figs  \n",
              "8693  What about the ethical delimmas,  groundbreaki...  \n",
              "8694                          I would like to know too.  \n",
              "\n",
              "[8695 rows x 2 columns]"
            ]
          },
          "execution_count": 13,
          "metadata": {},
          "output_type": "execute_result"
        }
      ],
      "source": [
        "train_comments"
      ]
    },
    {
      "cell_type": "code",
      "execution_count": 14,
      "metadata": {
        "colab": {
          "base_uri": "https://localhost:8080/"
        },
        "id": "MfXGX4skiKk6",
        "outputId": "2784618d-36ea-4c06-dd57-95311108cb0b"
      },
      "outputs": [
        {
          "name": "stdout",
          "output_type": "stream",
          "text": [
            "Con emoji: He's probably just really torn up about the Dragonfly. 😄\n",
            "Sin emoji: He's probably just really torn up about the Dragonfly. \n"
          ]
        }
      ],
      "source": [
        "print(\"Con emoji:\",train_comments['Comment'][12])\n",
        "print(\"Sin emoji:\",train_comments['Sin_Emoji'][12])"
      ]
    },
    {
      "attachments": {},
      "cell_type": "markdown",
      "metadata": {
        "id": "Y0Y9HSNxbZAb"
      },
      "source": [
        "Eliminacion de atributos HTML"
      ]
    },
    {
      "cell_type": "code",
      "execution_count": 15,
      "metadata": {
        "id": "jBdSqZfEaYvH"
      },
      "outputs": [],
      "source": [
        "def Eliminar_atributo_html(text):\n",
        "    html_pattern = re.compile(r'https?://\\S+|www\\.\\S+')\n",
        "    return html_pattern.sub(r'', text)"
      ]
    },
    {
      "cell_type": "code",
      "execution_count": 16,
      "metadata": {
        "id": "A9CSYhOwbcL_"
      },
      "outputs": [],
      "source": [
        "train_comments['Sin_atributos_HTML'] = train_comments['Sin_Emoji'].apply(lambda x: Eliminar_atributo_html(x))"
      ]
    },
    {
      "cell_type": "code",
      "execution_count": 17,
      "metadata": {
        "colab": {
          "base_uri": "https://localhost:8080/",
          "height": 424
        },
        "id": "swa9dZlCbrHK",
        "outputId": "7fb09b7c-b0a4-4cbb-f88a-8a0352a2672f"
      },
      "outputs": [
        {
          "data": {
            "text/html": [
              "\n",
              "  <div id=\"df-44257c5c-e17a-4134-ac8c-47b31ab99ca6\" class=\"colab-df-container\">\n",
              "    <div>\n",
              "<style scoped>\n",
              "    .dataframe tbody tr th:only-of-type {\n",
              "        vertical-align: middle;\n",
              "    }\n",
              "\n",
              "    .dataframe tbody tr th {\n",
              "        vertical-align: top;\n",
              "    }\n",
              "\n",
              "    .dataframe thead th {\n",
              "        text-align: right;\n",
              "    }\n",
              "</style>\n",
              "<table border=\"1\" class=\"dataframe\">\n",
              "  <thead>\n",
              "    <tr style=\"text-align: right;\">\n",
              "      <th></th>\n",
              "      <th>Comment</th>\n",
              "      <th>Sin_Emoji</th>\n",
              "      <th>Sin_atributos_HTML</th>\n",
              "    </tr>\n",
              "  </thead>\n",
              "  <tbody>\n",
              "    <tr>\n",
              "      <th>0</th>\n",
              "      <td>A few things. You might have negative- frequen...</td>\n",
              "      <td>A few things. You might have negative- frequen...</td>\n",
              "      <td>A few things. You might have negative- frequen...</td>\n",
              "    </tr>\n",
              "    <tr>\n",
              "      <th>1</th>\n",
              "      <td>Is it so hard to believe that there exist part...</td>\n",
              "      <td>Is it so hard to believe that there exist part...</td>\n",
              "      <td>Is it so hard to believe that there exist part...</td>\n",
              "    </tr>\n",
              "    <tr>\n",
              "      <th>2</th>\n",
              "      <td>There are bees</td>\n",
              "      <td>There are bees</td>\n",
              "      <td>There are bees</td>\n",
              "    </tr>\n",
              "    <tr>\n",
              "      <th>3</th>\n",
              "      <td>I'm a medication technician. And that's alot o...</td>\n",
              "      <td>I'm a medication technician. And that's alot o...</td>\n",
              "      <td>I'm a medication technician. And that's alot o...</td>\n",
              "    </tr>\n",
              "    <tr>\n",
              "      <th>4</th>\n",
              "      <td>Cesium is such a pretty metal.</td>\n",
              "      <td>Cesium is such a pretty metal.</td>\n",
              "      <td>Cesium is such a pretty metal.</td>\n",
              "    </tr>\n",
              "    <tr>\n",
              "      <th>...</th>\n",
              "      <td>...</td>\n",
              "      <td>...</td>\n",
              "      <td>...</td>\n",
              "    </tr>\n",
              "    <tr>\n",
              "      <th>8690</th>\n",
              "      <td>I make similar observations over the last week...</td>\n",
              "      <td>I make similar observations over the last week...</td>\n",
              "      <td>I make similar observations over the last week...</td>\n",
              "    </tr>\n",
              "    <tr>\n",
              "      <th>8691</th>\n",
              "      <td>You would know.</td>\n",
              "      <td>You would know.</td>\n",
              "      <td>You would know.</td>\n",
              "    </tr>\n",
              "    <tr>\n",
              "      <th>8692</th>\n",
              "      <td>Also use the correct number of sig figs</td>\n",
              "      <td>Also use the correct number of sig figs</td>\n",
              "      <td>Also use the correct number of sig figs</td>\n",
              "    </tr>\n",
              "    <tr>\n",
              "      <th>8693</th>\n",
              "      <td>What about the ethical delimmas,  groundbreaki...</td>\n",
              "      <td>What about the ethical delimmas,  groundbreaki...</td>\n",
              "      <td>What about the ethical delimmas,  groundbreaki...</td>\n",
              "    </tr>\n",
              "    <tr>\n",
              "      <th>8694</th>\n",
              "      <td>I would like to know too.</td>\n",
              "      <td>I would like to know too.</td>\n",
              "      <td>I would like to know too.</td>\n",
              "    </tr>\n",
              "  </tbody>\n",
              "</table>\n",
              "<p>8695 rows × 3 columns</p>\n",
              "</div>\n",
              "    <div class=\"colab-df-buttons\">\n",
              "\n",
              "  <div class=\"colab-df-container\">\n",
              "    <button class=\"colab-df-convert\" onclick=\"convertToInteractive('df-44257c5c-e17a-4134-ac8c-47b31ab99ca6')\"\n",
              "            title=\"Convert this dataframe to an interactive table.\"\n",
              "            style=\"display:none;\">\n",
              "\n",
              "  <svg xmlns=\"http://www.w3.org/2000/svg\" height=\"24px\" viewBox=\"0 -960 960 960\">\n",
              "    <path d=\"M120-120v-720h720v720H120Zm60-500h600v-160H180v160Zm220 220h160v-160H400v160Zm0 220h160v-160H400v160ZM180-400h160v-160H180v160Zm440 0h160v-160H620v160ZM180-180h160v-160H180v160Zm440 0h160v-160H620v160Z\"/>\n",
              "  </svg>\n",
              "    </button>\n",
              "\n",
              "  <style>\n",
              "    .colab-df-container {\n",
              "      display:flex;\n",
              "      gap: 12px;\n",
              "    }\n",
              "\n",
              "    .colab-df-convert {\n",
              "      background-color: #E8F0FE;\n",
              "      border: none;\n",
              "      border-radius: 50%;\n",
              "      cursor: pointer;\n",
              "      display: none;\n",
              "      fill: #1967D2;\n",
              "      height: 32px;\n",
              "      padding: 0 0 0 0;\n",
              "      width: 32px;\n",
              "    }\n",
              "\n",
              "    .colab-df-convert:hover {\n",
              "      background-color: #E2EBFA;\n",
              "      box-shadow: 0px 1px 2px rgba(60, 64, 67, 0.3), 0px 1px 3px 1px rgba(60, 64, 67, 0.15);\n",
              "      fill: #174EA6;\n",
              "    }\n",
              "\n",
              "    .colab-df-buttons div {\n",
              "      margin-bottom: 4px;\n",
              "    }\n",
              "\n",
              "    [theme=dark] .colab-df-convert {\n",
              "      background-color: #3B4455;\n",
              "      fill: #D2E3FC;\n",
              "    }\n",
              "\n",
              "    [theme=dark] .colab-df-convert:hover {\n",
              "      background-color: #434B5C;\n",
              "      box-shadow: 0px 1px 3px 1px rgba(0, 0, 0, 0.15);\n",
              "      filter: drop-shadow(0px 1px 2px rgba(0, 0, 0, 0.3));\n",
              "      fill: #FFFFFF;\n",
              "    }\n",
              "  </style>\n",
              "\n",
              "    <script>\n",
              "      const buttonEl =\n",
              "        document.querySelector('#df-44257c5c-e17a-4134-ac8c-47b31ab99ca6 button.colab-df-convert');\n",
              "      buttonEl.style.display =\n",
              "        google.colab.kernel.accessAllowed ? 'block' : 'none';\n",
              "\n",
              "      async function convertToInteractive(key) {\n",
              "        const element = document.querySelector('#df-44257c5c-e17a-4134-ac8c-47b31ab99ca6');\n",
              "        const dataTable =\n",
              "          await google.colab.kernel.invokeFunction('convertToInteractive',\n",
              "                                                    [key], {});\n",
              "        if (!dataTable) return;\n",
              "\n",
              "        const docLinkHtml = 'Like what you see? Visit the ' +\n",
              "          '<a target=\"_blank\" href=https://colab.research.google.com/notebooks/data_table.ipynb>data table notebook</a>'\n",
              "          + ' to learn more about interactive tables.';\n",
              "        element.innerHTML = '';\n",
              "        dataTable['output_type'] = 'display_data';\n",
              "        await google.colab.output.renderOutput(dataTable, element);\n",
              "        const docLink = document.createElement('div');\n",
              "        docLink.innerHTML = docLinkHtml;\n",
              "        element.appendChild(docLink);\n",
              "      }\n",
              "    </script>\n",
              "  </div>\n",
              "\n",
              "\n",
              "<div id=\"df-32f595e3-a77f-450e-ae55-1460d47d02ac\">\n",
              "  <button class=\"colab-df-quickchart\" onclick=\"quickchart('df-32f595e3-a77f-450e-ae55-1460d47d02ac')\"\n",
              "            title=\"Suggest charts\"\n",
              "            style=\"display:none;\">\n",
              "\n",
              "<svg xmlns=\"http://www.w3.org/2000/svg\" height=\"24px\"viewBox=\"0 0 24 24\"\n",
              "     width=\"24px\">\n",
              "    <g>\n",
              "        <path d=\"M19 3H5c-1.1 0-2 .9-2 2v14c0 1.1.9 2 2 2h14c1.1 0 2-.9 2-2V5c0-1.1-.9-2-2-2zM9 17H7v-7h2v7zm4 0h-2V7h2v10zm4 0h-2v-4h2v4z\"/>\n",
              "    </g>\n",
              "</svg>\n",
              "  </button>\n",
              "\n",
              "<style>\n",
              "  .colab-df-quickchart {\n",
              "      --bg-color: #E8F0FE;\n",
              "      --fill-color: #1967D2;\n",
              "      --hover-bg-color: #E2EBFA;\n",
              "      --hover-fill-color: #174EA6;\n",
              "      --disabled-fill-color: #AAA;\n",
              "      --disabled-bg-color: #DDD;\n",
              "  }\n",
              "\n",
              "  [theme=dark] .colab-df-quickchart {\n",
              "      --bg-color: #3B4455;\n",
              "      --fill-color: #D2E3FC;\n",
              "      --hover-bg-color: #434B5C;\n",
              "      --hover-fill-color: #FFFFFF;\n",
              "      --disabled-bg-color: #3B4455;\n",
              "      --disabled-fill-color: #666;\n",
              "  }\n",
              "\n",
              "  .colab-df-quickchart {\n",
              "    background-color: var(--bg-color);\n",
              "    border: none;\n",
              "    border-radius: 50%;\n",
              "    cursor: pointer;\n",
              "    display: none;\n",
              "    fill: var(--fill-color);\n",
              "    height: 32px;\n",
              "    padding: 0;\n",
              "    width: 32px;\n",
              "  }\n",
              "\n",
              "  .colab-df-quickchart:hover {\n",
              "    background-color: var(--hover-bg-color);\n",
              "    box-shadow: 0 1px 2px rgba(60, 64, 67, 0.3), 0 1px 3px 1px rgba(60, 64, 67, 0.15);\n",
              "    fill: var(--button-hover-fill-color);\n",
              "  }\n",
              "\n",
              "  .colab-df-quickchart-complete:disabled,\n",
              "  .colab-df-quickchart-complete:disabled:hover {\n",
              "    background-color: var(--disabled-bg-color);\n",
              "    fill: var(--disabled-fill-color);\n",
              "    box-shadow: none;\n",
              "  }\n",
              "\n",
              "  .colab-df-spinner {\n",
              "    border: 2px solid var(--fill-color);\n",
              "    border-color: transparent;\n",
              "    border-bottom-color: var(--fill-color);\n",
              "    animation:\n",
              "      spin 1s steps(1) infinite;\n",
              "  }\n",
              "\n",
              "  @keyframes spin {\n",
              "    0% {\n",
              "      border-color: transparent;\n",
              "      border-bottom-color: var(--fill-color);\n",
              "      border-left-color: var(--fill-color);\n",
              "    }\n",
              "    20% {\n",
              "      border-color: transparent;\n",
              "      border-left-color: var(--fill-color);\n",
              "      border-top-color: var(--fill-color);\n",
              "    }\n",
              "    30% {\n",
              "      border-color: transparent;\n",
              "      border-left-color: var(--fill-color);\n",
              "      border-top-color: var(--fill-color);\n",
              "      border-right-color: var(--fill-color);\n",
              "    }\n",
              "    40% {\n",
              "      border-color: transparent;\n",
              "      border-right-color: var(--fill-color);\n",
              "      border-top-color: var(--fill-color);\n",
              "    }\n",
              "    60% {\n",
              "      border-color: transparent;\n",
              "      border-right-color: var(--fill-color);\n",
              "    }\n",
              "    80% {\n",
              "      border-color: transparent;\n",
              "      border-right-color: var(--fill-color);\n",
              "      border-bottom-color: var(--fill-color);\n",
              "    }\n",
              "    90% {\n",
              "      border-color: transparent;\n",
              "      border-bottom-color: var(--fill-color);\n",
              "    }\n",
              "  }\n",
              "</style>\n",
              "\n",
              "  <script>\n",
              "    async function quickchart(key) {\n",
              "      const quickchartButtonEl =\n",
              "        document.querySelector('#' + key + ' button');\n",
              "      quickchartButtonEl.disabled = true;  // To prevent multiple clicks.\n",
              "      quickchartButtonEl.classList.add('colab-df-spinner');\n",
              "      try {\n",
              "        const charts = await google.colab.kernel.invokeFunction(\n",
              "            'suggestCharts', [key], {});\n",
              "      } catch (error) {\n",
              "        console.error('Error during call to suggestCharts:', error);\n",
              "      }\n",
              "      quickchartButtonEl.classList.remove('colab-df-spinner');\n",
              "      quickchartButtonEl.classList.add('colab-df-quickchart-complete');\n",
              "    }\n",
              "    (() => {\n",
              "      let quickchartButtonEl =\n",
              "        document.querySelector('#df-32f595e3-a77f-450e-ae55-1460d47d02ac button');\n",
              "      quickchartButtonEl.style.display =\n",
              "        google.colab.kernel.accessAllowed ? 'block' : 'none';\n",
              "    })();\n",
              "  </script>\n",
              "</div>\n",
              "    </div>\n",
              "  </div>\n"
            ],
            "text/plain": [
              "                                                Comment  \\\n",
              "0     A few things. You might have negative- frequen...   \n",
              "1     Is it so hard to believe that there exist part...   \n",
              "2                                        There are bees   \n",
              "3     I'm a medication technician. And that's alot o...   \n",
              "4                        Cesium is such a pretty metal.   \n",
              "...                                                 ...   \n",
              "8690  I make similar observations over the last week...   \n",
              "8691                                    You would know.   \n",
              "8692            Also use the correct number of sig figs   \n",
              "8693  What about the ethical delimmas,  groundbreaki...   \n",
              "8694                          I would like to know too.   \n",
              "\n",
              "                                              Sin_Emoji  \\\n",
              "0     A few things. You might have negative- frequen...   \n",
              "1     Is it so hard to believe that there exist part...   \n",
              "2                                        There are bees   \n",
              "3     I'm a medication technician. And that's alot o...   \n",
              "4                        Cesium is such a pretty metal.   \n",
              "...                                                 ...   \n",
              "8690  I make similar observations over the last week...   \n",
              "8691                                    You would know.   \n",
              "8692            Also use the correct number of sig figs   \n",
              "8693  What about the ethical delimmas,  groundbreaki...   \n",
              "8694                          I would like to know too.   \n",
              "\n",
              "                                     Sin_atributos_HTML  \n",
              "0     A few things. You might have negative- frequen...  \n",
              "1     Is it so hard to believe that there exist part...  \n",
              "2                                        There are bees  \n",
              "3     I'm a medication technician. And that's alot o...  \n",
              "4                        Cesium is such a pretty metal.  \n",
              "...                                                 ...  \n",
              "8690  I make similar observations over the last week...  \n",
              "8691                                    You would know.  \n",
              "8692            Also use the correct number of sig figs  \n",
              "8693  What about the ethical delimmas,  groundbreaki...  \n",
              "8694                          I would like to know too.  \n",
              "\n",
              "[8695 rows x 3 columns]"
            ]
          },
          "execution_count": 17,
          "metadata": {},
          "output_type": "execute_result"
        }
      ],
      "source": [
        "train_comments"
      ]
    },
    {
      "cell_type": "code",
      "execution_count": 18,
      "metadata": {
        "colab": {
          "base_uri": "https://localhost:8080/"
        },
        "id": "U33U3qqabxL_",
        "outputId": "cd4ab61d-424b-4b43-aef7-c1da544b8e1f"
      },
      "outputs": [
        {
          "name": "stdout",
          "output_type": "stream",
          "text": [
            "Comentarios: \n",
            "1  https://t.me/joinchat/3gElLHLuMCxhNGI0 \n",
            "2 [This may come in handy](https://libgen.is/search.php?req=Critical+Survey+of+Stability+Constants+of+EDTA+Complexes&lg_topic=libgen&open=0&view=simple&res=25&phrase=1&column=def) \n",
            "3 Here u go  \\n\\n\\nhttps://www.khanacademy.org/science/physics/linear-momentum/elastic-and-inelastic-collisions/a/what-are-elastic-and-inelastic-collisions#:\\~:text=An%20elastic%20collision%20is%20a,conserved%20quantities%20in%20elastic%20collisions.&text=This%20collision%20is%20perfectly%20elastic%20because%20no%20energy%20has%20been%20lost.\n",
            "\n",
            "Sin atributos HTML: \n",
            "1   \n",
            "2 [This may come in handy]( \n",
            "3 Here u go  \\n\\n\\n\n"
          ]
        }
      ],
      "source": [
        "print(\"Comentarios: \\n1 \", train_comments['Comment'][8], \"\\n2\", train_comments['Comment'][55], \"\\n3\",train_comments['Comment'][117])\n",
        "print(\"\\nSin atributos HTML: \\n1 \", train_comments['Sin_atributos_HTML'][8], \"\\n2\", train_comments['Sin_atributos_HTML'][55], \"\\n3\",train_comments['Sin_atributos_HTML'][117])"
      ]
    },
    {
      "attachments": {},
      "cell_type": "markdown",
      "metadata": {
        "id": "v919cBN-fIl7"
      },
      "source": [
        "Eliminación de signos de puntuación"
      ]
    },
    {
      "cell_type": "code",
      "execution_count": 19,
      "metadata": {
        "id": "_gizJoU2kvDd"
      },
      "outputs": [],
      "source": [
        "import string"
      ]
    },
    {
      "cell_type": "code",
      "execution_count": 20,
      "metadata": {
        "id": "JINBCeHHdeWO"
      },
      "outputs": [],
      "source": [
        "def Eliminar_punctuation(text):\n",
        "    punctuationfree = \"\".join([i for i in text if i not in string.punctuation])\n",
        "    return punctuationfree"
      ]
    },
    {
      "cell_type": "code",
      "execution_count": 21,
      "metadata": {
        "id": "Ooc3ft2sfACf"
      },
      "outputs": [],
      "source": [
        "train_comments[\"Sin_signos_de_puntuacion\"] = train_comments[\"Sin_atributos_HTML\"].apply(lambda text: Eliminar_punctuation(text))"
      ]
    },
    {
      "cell_type": "code",
      "execution_count": 22,
      "metadata": {
        "colab": {
          "base_uri": "https://localhost:8080/",
          "height": 424
        },
        "id": "kCSUS7Q9fDcM",
        "outputId": "361c5400-f5f3-4638-cb66-5fd1c635527d"
      },
      "outputs": [
        {
          "data": {
            "text/html": [
              "\n",
              "  <div id=\"df-6c439ee2-a739-4d4b-ba5b-8128cafaa9e7\" class=\"colab-df-container\">\n",
              "    <div>\n",
              "<style scoped>\n",
              "    .dataframe tbody tr th:only-of-type {\n",
              "        vertical-align: middle;\n",
              "    }\n",
              "\n",
              "    .dataframe tbody tr th {\n",
              "        vertical-align: top;\n",
              "    }\n",
              "\n",
              "    .dataframe thead th {\n",
              "        text-align: right;\n",
              "    }\n",
              "</style>\n",
              "<table border=\"1\" class=\"dataframe\">\n",
              "  <thead>\n",
              "    <tr style=\"text-align: right;\">\n",
              "      <th></th>\n",
              "      <th>Comment</th>\n",
              "      <th>Sin_Emoji</th>\n",
              "      <th>Sin_atributos_HTML</th>\n",
              "      <th>Sin_signos_de_puntuacion</th>\n",
              "    </tr>\n",
              "  </thead>\n",
              "  <tbody>\n",
              "    <tr>\n",
              "      <th>0</th>\n",
              "      <td>A few things. You might have negative- frequen...</td>\n",
              "      <td>A few things. You might have negative- frequen...</td>\n",
              "      <td>A few things. You might have negative- frequen...</td>\n",
              "      <td>A few things You might have negative frequency...</td>\n",
              "    </tr>\n",
              "    <tr>\n",
              "      <th>1</th>\n",
              "      <td>Is it so hard to believe that there exist part...</td>\n",
              "      <td>Is it so hard to believe that there exist part...</td>\n",
              "      <td>Is it so hard to believe that there exist part...</td>\n",
              "      <td>Is it so hard to believe that there exist part...</td>\n",
              "    </tr>\n",
              "    <tr>\n",
              "      <th>2</th>\n",
              "      <td>There are bees</td>\n",
              "      <td>There are bees</td>\n",
              "      <td>There are bees</td>\n",
              "      <td>There are bees</td>\n",
              "    </tr>\n",
              "    <tr>\n",
              "      <th>3</th>\n",
              "      <td>I'm a medication technician. And that's alot o...</td>\n",
              "      <td>I'm a medication technician. And that's alot o...</td>\n",
              "      <td>I'm a medication technician. And that's alot o...</td>\n",
              "      <td>Im a medication technician And thats alot of d...</td>\n",
              "    </tr>\n",
              "    <tr>\n",
              "      <th>4</th>\n",
              "      <td>Cesium is such a pretty metal.</td>\n",
              "      <td>Cesium is such a pretty metal.</td>\n",
              "      <td>Cesium is such a pretty metal.</td>\n",
              "      <td>Cesium is such a pretty metal</td>\n",
              "    </tr>\n",
              "    <tr>\n",
              "      <th>...</th>\n",
              "      <td>...</td>\n",
              "      <td>...</td>\n",
              "      <td>...</td>\n",
              "      <td>...</td>\n",
              "    </tr>\n",
              "    <tr>\n",
              "      <th>8690</th>\n",
              "      <td>I make similar observations over the last week...</td>\n",
              "      <td>I make similar observations over the last week...</td>\n",
              "      <td>I make similar observations over the last week...</td>\n",
              "      <td>I make similar observations over the last week...</td>\n",
              "    </tr>\n",
              "    <tr>\n",
              "      <th>8691</th>\n",
              "      <td>You would know.</td>\n",
              "      <td>You would know.</td>\n",
              "      <td>You would know.</td>\n",
              "      <td>You would know</td>\n",
              "    </tr>\n",
              "    <tr>\n",
              "      <th>8692</th>\n",
              "      <td>Also use the correct number of sig figs</td>\n",
              "      <td>Also use the correct number of sig figs</td>\n",
              "      <td>Also use the correct number of sig figs</td>\n",
              "      <td>Also use the correct number of sig figs</td>\n",
              "    </tr>\n",
              "    <tr>\n",
              "      <th>8693</th>\n",
              "      <td>What about the ethical delimmas,  groundbreaki...</td>\n",
              "      <td>What about the ethical delimmas,  groundbreaki...</td>\n",
              "      <td>What about the ethical delimmas,  groundbreaki...</td>\n",
              "      <td>What about the ethical delimmas  groundbreakin...</td>\n",
              "    </tr>\n",
              "    <tr>\n",
              "      <th>8694</th>\n",
              "      <td>I would like to know too.</td>\n",
              "      <td>I would like to know too.</td>\n",
              "      <td>I would like to know too.</td>\n",
              "      <td>I would like to know too</td>\n",
              "    </tr>\n",
              "  </tbody>\n",
              "</table>\n",
              "<p>8695 rows × 4 columns</p>\n",
              "</div>\n",
              "    <div class=\"colab-df-buttons\">\n",
              "\n",
              "  <div class=\"colab-df-container\">\n",
              "    <button class=\"colab-df-convert\" onclick=\"convertToInteractive('df-6c439ee2-a739-4d4b-ba5b-8128cafaa9e7')\"\n",
              "            title=\"Convert this dataframe to an interactive table.\"\n",
              "            style=\"display:none;\">\n",
              "\n",
              "  <svg xmlns=\"http://www.w3.org/2000/svg\" height=\"24px\" viewBox=\"0 -960 960 960\">\n",
              "    <path d=\"M120-120v-720h720v720H120Zm60-500h600v-160H180v160Zm220 220h160v-160H400v160Zm0 220h160v-160H400v160ZM180-400h160v-160H180v160Zm440 0h160v-160H620v160ZM180-180h160v-160H180v160Zm440 0h160v-160H620v160Z\"/>\n",
              "  </svg>\n",
              "    </button>\n",
              "\n",
              "  <style>\n",
              "    .colab-df-container {\n",
              "      display:flex;\n",
              "      gap: 12px;\n",
              "    }\n",
              "\n",
              "    .colab-df-convert {\n",
              "      background-color: #E8F0FE;\n",
              "      border: none;\n",
              "      border-radius: 50%;\n",
              "      cursor: pointer;\n",
              "      display: none;\n",
              "      fill: #1967D2;\n",
              "      height: 32px;\n",
              "      padding: 0 0 0 0;\n",
              "      width: 32px;\n",
              "    }\n",
              "\n",
              "    .colab-df-convert:hover {\n",
              "      background-color: #E2EBFA;\n",
              "      box-shadow: 0px 1px 2px rgba(60, 64, 67, 0.3), 0px 1px 3px 1px rgba(60, 64, 67, 0.15);\n",
              "      fill: #174EA6;\n",
              "    }\n",
              "\n",
              "    .colab-df-buttons div {\n",
              "      margin-bottom: 4px;\n",
              "    }\n",
              "\n",
              "    [theme=dark] .colab-df-convert {\n",
              "      background-color: #3B4455;\n",
              "      fill: #D2E3FC;\n",
              "    }\n",
              "\n",
              "    [theme=dark] .colab-df-convert:hover {\n",
              "      background-color: #434B5C;\n",
              "      box-shadow: 0px 1px 3px 1px rgba(0, 0, 0, 0.15);\n",
              "      filter: drop-shadow(0px 1px 2px rgba(0, 0, 0, 0.3));\n",
              "      fill: #FFFFFF;\n",
              "    }\n",
              "  </style>\n",
              "\n",
              "    <script>\n",
              "      const buttonEl =\n",
              "        document.querySelector('#df-6c439ee2-a739-4d4b-ba5b-8128cafaa9e7 button.colab-df-convert');\n",
              "      buttonEl.style.display =\n",
              "        google.colab.kernel.accessAllowed ? 'block' : 'none';\n",
              "\n",
              "      async function convertToInteractive(key) {\n",
              "        const element = document.querySelector('#df-6c439ee2-a739-4d4b-ba5b-8128cafaa9e7');\n",
              "        const dataTable =\n",
              "          await google.colab.kernel.invokeFunction('convertToInteractive',\n",
              "                                                    [key], {});\n",
              "        if (!dataTable) return;\n",
              "\n",
              "        const docLinkHtml = 'Like what you see? Visit the ' +\n",
              "          '<a target=\"_blank\" href=https://colab.research.google.com/notebooks/data_table.ipynb>data table notebook</a>'\n",
              "          + ' to learn more about interactive tables.';\n",
              "        element.innerHTML = '';\n",
              "        dataTable['output_type'] = 'display_data';\n",
              "        await google.colab.output.renderOutput(dataTable, element);\n",
              "        const docLink = document.createElement('div');\n",
              "        docLink.innerHTML = docLinkHtml;\n",
              "        element.appendChild(docLink);\n",
              "      }\n",
              "    </script>\n",
              "  </div>\n",
              "\n",
              "\n",
              "<div id=\"df-23df2fe7-c0f4-484f-b358-505112cc3e33\">\n",
              "  <button class=\"colab-df-quickchart\" onclick=\"quickchart('df-23df2fe7-c0f4-484f-b358-505112cc3e33')\"\n",
              "            title=\"Suggest charts\"\n",
              "            style=\"display:none;\">\n",
              "\n",
              "<svg xmlns=\"http://www.w3.org/2000/svg\" height=\"24px\"viewBox=\"0 0 24 24\"\n",
              "     width=\"24px\">\n",
              "    <g>\n",
              "        <path d=\"M19 3H5c-1.1 0-2 .9-2 2v14c0 1.1.9 2 2 2h14c1.1 0 2-.9 2-2V5c0-1.1-.9-2-2-2zM9 17H7v-7h2v7zm4 0h-2V7h2v10zm4 0h-2v-4h2v4z\"/>\n",
              "    </g>\n",
              "</svg>\n",
              "  </button>\n",
              "\n",
              "<style>\n",
              "  .colab-df-quickchart {\n",
              "      --bg-color: #E8F0FE;\n",
              "      --fill-color: #1967D2;\n",
              "      --hover-bg-color: #E2EBFA;\n",
              "      --hover-fill-color: #174EA6;\n",
              "      --disabled-fill-color: #AAA;\n",
              "      --disabled-bg-color: #DDD;\n",
              "  }\n",
              "\n",
              "  [theme=dark] .colab-df-quickchart {\n",
              "      --bg-color: #3B4455;\n",
              "      --fill-color: #D2E3FC;\n",
              "      --hover-bg-color: #434B5C;\n",
              "      --hover-fill-color: #FFFFFF;\n",
              "      --disabled-bg-color: #3B4455;\n",
              "      --disabled-fill-color: #666;\n",
              "  }\n",
              "\n",
              "  .colab-df-quickchart {\n",
              "    background-color: var(--bg-color);\n",
              "    border: none;\n",
              "    border-radius: 50%;\n",
              "    cursor: pointer;\n",
              "    display: none;\n",
              "    fill: var(--fill-color);\n",
              "    height: 32px;\n",
              "    padding: 0;\n",
              "    width: 32px;\n",
              "  }\n",
              "\n",
              "  .colab-df-quickchart:hover {\n",
              "    background-color: var(--hover-bg-color);\n",
              "    box-shadow: 0 1px 2px rgba(60, 64, 67, 0.3), 0 1px 3px 1px rgba(60, 64, 67, 0.15);\n",
              "    fill: var(--button-hover-fill-color);\n",
              "  }\n",
              "\n",
              "  .colab-df-quickchart-complete:disabled,\n",
              "  .colab-df-quickchart-complete:disabled:hover {\n",
              "    background-color: var(--disabled-bg-color);\n",
              "    fill: var(--disabled-fill-color);\n",
              "    box-shadow: none;\n",
              "  }\n",
              "\n",
              "  .colab-df-spinner {\n",
              "    border: 2px solid var(--fill-color);\n",
              "    border-color: transparent;\n",
              "    border-bottom-color: var(--fill-color);\n",
              "    animation:\n",
              "      spin 1s steps(1) infinite;\n",
              "  }\n",
              "\n",
              "  @keyframes spin {\n",
              "    0% {\n",
              "      border-color: transparent;\n",
              "      border-bottom-color: var(--fill-color);\n",
              "      border-left-color: var(--fill-color);\n",
              "    }\n",
              "    20% {\n",
              "      border-color: transparent;\n",
              "      border-left-color: var(--fill-color);\n",
              "      border-top-color: var(--fill-color);\n",
              "    }\n",
              "    30% {\n",
              "      border-color: transparent;\n",
              "      border-left-color: var(--fill-color);\n",
              "      border-top-color: var(--fill-color);\n",
              "      border-right-color: var(--fill-color);\n",
              "    }\n",
              "    40% {\n",
              "      border-color: transparent;\n",
              "      border-right-color: var(--fill-color);\n",
              "      border-top-color: var(--fill-color);\n",
              "    }\n",
              "    60% {\n",
              "      border-color: transparent;\n",
              "      border-right-color: var(--fill-color);\n",
              "    }\n",
              "    80% {\n",
              "      border-color: transparent;\n",
              "      border-right-color: var(--fill-color);\n",
              "      border-bottom-color: var(--fill-color);\n",
              "    }\n",
              "    90% {\n",
              "      border-color: transparent;\n",
              "      border-bottom-color: var(--fill-color);\n",
              "    }\n",
              "  }\n",
              "</style>\n",
              "\n",
              "  <script>\n",
              "    async function quickchart(key) {\n",
              "      const quickchartButtonEl =\n",
              "        document.querySelector('#' + key + ' button');\n",
              "      quickchartButtonEl.disabled = true;  // To prevent multiple clicks.\n",
              "      quickchartButtonEl.classList.add('colab-df-spinner');\n",
              "      try {\n",
              "        const charts = await google.colab.kernel.invokeFunction(\n",
              "            'suggestCharts', [key], {});\n",
              "      } catch (error) {\n",
              "        console.error('Error during call to suggestCharts:', error);\n",
              "      }\n",
              "      quickchartButtonEl.classList.remove('colab-df-spinner');\n",
              "      quickchartButtonEl.classList.add('colab-df-quickchart-complete');\n",
              "    }\n",
              "    (() => {\n",
              "      let quickchartButtonEl =\n",
              "        document.querySelector('#df-23df2fe7-c0f4-484f-b358-505112cc3e33 button');\n",
              "      quickchartButtonEl.style.display =\n",
              "        google.colab.kernel.accessAllowed ? 'block' : 'none';\n",
              "    })();\n",
              "  </script>\n",
              "</div>\n",
              "    </div>\n",
              "  </div>\n"
            ],
            "text/plain": [
              "                                                Comment  \\\n",
              "0     A few things. You might have negative- frequen...   \n",
              "1     Is it so hard to believe that there exist part...   \n",
              "2                                        There are bees   \n",
              "3     I'm a medication technician. And that's alot o...   \n",
              "4                        Cesium is such a pretty metal.   \n",
              "...                                                 ...   \n",
              "8690  I make similar observations over the last week...   \n",
              "8691                                    You would know.   \n",
              "8692            Also use the correct number of sig figs   \n",
              "8693  What about the ethical delimmas,  groundbreaki...   \n",
              "8694                          I would like to know too.   \n",
              "\n",
              "                                              Sin_Emoji  \\\n",
              "0     A few things. You might have negative- frequen...   \n",
              "1     Is it so hard to believe that there exist part...   \n",
              "2                                        There are bees   \n",
              "3     I'm a medication technician. And that's alot o...   \n",
              "4                        Cesium is such a pretty metal.   \n",
              "...                                                 ...   \n",
              "8690  I make similar observations over the last week...   \n",
              "8691                                    You would know.   \n",
              "8692            Also use the correct number of sig figs   \n",
              "8693  What about the ethical delimmas,  groundbreaki...   \n",
              "8694                          I would like to know too.   \n",
              "\n",
              "                                     Sin_atributos_HTML  \\\n",
              "0     A few things. You might have negative- frequen...   \n",
              "1     Is it so hard to believe that there exist part...   \n",
              "2                                        There are bees   \n",
              "3     I'm a medication technician. And that's alot o...   \n",
              "4                        Cesium is such a pretty metal.   \n",
              "...                                                 ...   \n",
              "8690  I make similar observations over the last week...   \n",
              "8691                                    You would know.   \n",
              "8692            Also use the correct number of sig figs   \n",
              "8693  What about the ethical delimmas,  groundbreaki...   \n",
              "8694                          I would like to know too.   \n",
              "\n",
              "                               Sin_signos_de_puntuacion  \n",
              "0     A few things You might have negative frequency...  \n",
              "1     Is it so hard to believe that there exist part...  \n",
              "2                                        There are bees  \n",
              "3     Im a medication technician And thats alot of d...  \n",
              "4                         Cesium is such a pretty metal  \n",
              "...                                                 ...  \n",
              "8690  I make similar observations over the last week...  \n",
              "8691                                     You would know  \n",
              "8692            Also use the correct number of sig figs  \n",
              "8693  What about the ethical delimmas  groundbreakin...  \n",
              "8694                           I would like to know too  \n",
              "\n",
              "[8695 rows x 4 columns]"
            ]
          },
          "execution_count": 22,
          "metadata": {},
          "output_type": "execute_result"
        }
      ],
      "source": [
        "train_comments"
      ]
    },
    {
      "cell_type": "code",
      "execution_count": 23,
      "metadata": {
        "colab": {
          "base_uri": "https://localhost:8080/"
        },
        "id": "yYidbds7fEeu",
        "outputId": "ad933a96-82e0-48af-da48-04afaa0de920"
      },
      "outputs": [
        {
          "name": "stdout",
          "output_type": "stream",
          "text": [
            "Comentarios: \n",
            "  Is it so hard to believe that there exist particulars out that that we can't detect with anything we've invented so far.\\n\\nI mean look how long it took humans to find out a way to detect radiation.\n",
            "\n",
            "Sin signos de puntuacion HTML: \n",
            "  Is it so hard to believe that there exist particulars out that that we cant detect with anything weve invented so farnnI mean look how long it took humans to find out a way to detect radiation\n"
          ]
        }
      ],
      "source": [
        "print(\"Comentarios: \\n \", train_comments['Comment'][1])\n",
        "print(\"\\nSin signos de puntuacion HTML: \\n \", train_comments['Sin_signos_de_puntuacion'][1])"
      ]
    },
    {
      "attachments": {},
      "cell_type": "markdown",
      "metadata": {
        "id": "p024OUD5gwqp"
      },
      "source": [
        "Comentarios solo con minuscula"
      ]
    },
    {
      "cell_type": "code",
      "execution_count": 24,
      "metadata": {
        "id": "JhFTLFxnfVnD"
      },
      "outputs": [],
      "source": [
        "train_comments[\"Con_minusculas\"] = train_comments[\"Sin_signos_de_puntuacion\"].str.lower()"
      ]
    },
    {
      "cell_type": "code",
      "execution_count": 25,
      "metadata": {
        "colab": {
          "base_uri": "https://localhost:8080/",
          "height": 510
        },
        "id": "QYt5mEfCg8cs",
        "outputId": "17d68bfe-0405-4e64-d497-e56438896550"
      },
      "outputs": [
        {
          "data": {
            "text/html": [
              "\n",
              "  <div id=\"df-dfcc09c7-4bb7-4d31-9604-4a377d02cd13\" class=\"colab-df-container\">\n",
              "    <div>\n",
              "<style scoped>\n",
              "    .dataframe tbody tr th:only-of-type {\n",
              "        vertical-align: middle;\n",
              "    }\n",
              "\n",
              "    .dataframe tbody tr th {\n",
              "        vertical-align: top;\n",
              "    }\n",
              "\n",
              "    .dataframe thead th {\n",
              "        text-align: right;\n",
              "    }\n",
              "</style>\n",
              "<table border=\"1\" class=\"dataframe\">\n",
              "  <thead>\n",
              "    <tr style=\"text-align: right;\">\n",
              "      <th></th>\n",
              "      <th>Comment</th>\n",
              "      <th>Sin_Emoji</th>\n",
              "      <th>Sin_atributos_HTML</th>\n",
              "      <th>Sin_signos_de_puntuacion</th>\n",
              "      <th>Con_minusculas</th>\n",
              "    </tr>\n",
              "  </thead>\n",
              "  <tbody>\n",
              "    <tr>\n",
              "      <th>0</th>\n",
              "      <td>A few things. You might have negative- frequen...</td>\n",
              "      <td>A few things. You might have negative- frequen...</td>\n",
              "      <td>A few things. You might have negative- frequen...</td>\n",
              "      <td>A few things You might have negative frequency...</td>\n",
              "      <td>a few things you might have negative frequency...</td>\n",
              "    </tr>\n",
              "    <tr>\n",
              "      <th>1</th>\n",
              "      <td>Is it so hard to believe that there exist part...</td>\n",
              "      <td>Is it so hard to believe that there exist part...</td>\n",
              "      <td>Is it so hard to believe that there exist part...</td>\n",
              "      <td>Is it so hard to believe that there exist part...</td>\n",
              "      <td>is it so hard to believe that there exist part...</td>\n",
              "    </tr>\n",
              "    <tr>\n",
              "      <th>2</th>\n",
              "      <td>There are bees</td>\n",
              "      <td>There are bees</td>\n",
              "      <td>There are bees</td>\n",
              "      <td>There are bees</td>\n",
              "      <td>there are bees</td>\n",
              "    </tr>\n",
              "    <tr>\n",
              "      <th>3</th>\n",
              "      <td>I'm a medication technician. And that's alot o...</td>\n",
              "      <td>I'm a medication technician. And that's alot o...</td>\n",
              "      <td>I'm a medication technician. And that's alot o...</td>\n",
              "      <td>Im a medication technician And thats alot of d...</td>\n",
              "      <td>im a medication technician and thats alot of d...</td>\n",
              "    </tr>\n",
              "    <tr>\n",
              "      <th>4</th>\n",
              "      <td>Cesium is such a pretty metal.</td>\n",
              "      <td>Cesium is such a pretty metal.</td>\n",
              "      <td>Cesium is such a pretty metal.</td>\n",
              "      <td>Cesium is such a pretty metal</td>\n",
              "      <td>cesium is such a pretty metal</td>\n",
              "    </tr>\n",
              "    <tr>\n",
              "      <th>...</th>\n",
              "      <td>...</td>\n",
              "      <td>...</td>\n",
              "      <td>...</td>\n",
              "      <td>...</td>\n",
              "      <td>...</td>\n",
              "    </tr>\n",
              "    <tr>\n",
              "      <th>8690</th>\n",
              "      <td>I make similar observations over the last week...</td>\n",
              "      <td>I make similar observations over the last week...</td>\n",
              "      <td>I make similar observations over the last week...</td>\n",
              "      <td>I make similar observations over the last week...</td>\n",
              "      <td>i make similar observations over the last week...</td>\n",
              "    </tr>\n",
              "    <tr>\n",
              "      <th>8691</th>\n",
              "      <td>You would know.</td>\n",
              "      <td>You would know.</td>\n",
              "      <td>You would know.</td>\n",
              "      <td>You would know</td>\n",
              "      <td>you would know</td>\n",
              "    </tr>\n",
              "    <tr>\n",
              "      <th>8692</th>\n",
              "      <td>Also use the correct number of sig figs</td>\n",
              "      <td>Also use the correct number of sig figs</td>\n",
              "      <td>Also use the correct number of sig figs</td>\n",
              "      <td>Also use the correct number of sig figs</td>\n",
              "      <td>also use the correct number of sig figs</td>\n",
              "    </tr>\n",
              "    <tr>\n",
              "      <th>8693</th>\n",
              "      <td>What about the ethical delimmas,  groundbreaki...</td>\n",
              "      <td>What about the ethical delimmas,  groundbreaki...</td>\n",
              "      <td>What about the ethical delimmas,  groundbreaki...</td>\n",
              "      <td>What about the ethical delimmas  groundbreakin...</td>\n",
              "      <td>what about the ethical delimmas  groundbreakin...</td>\n",
              "    </tr>\n",
              "    <tr>\n",
              "      <th>8694</th>\n",
              "      <td>I would like to know too.</td>\n",
              "      <td>I would like to know too.</td>\n",
              "      <td>I would like to know too.</td>\n",
              "      <td>I would like to know too</td>\n",
              "      <td>i would like to know too</td>\n",
              "    </tr>\n",
              "  </tbody>\n",
              "</table>\n",
              "<p>8695 rows × 5 columns</p>\n",
              "</div>\n",
              "    <div class=\"colab-df-buttons\">\n",
              "\n",
              "  <div class=\"colab-df-container\">\n",
              "    <button class=\"colab-df-convert\" onclick=\"convertToInteractive('df-dfcc09c7-4bb7-4d31-9604-4a377d02cd13')\"\n",
              "            title=\"Convert this dataframe to an interactive table.\"\n",
              "            style=\"display:none;\">\n",
              "\n",
              "  <svg xmlns=\"http://www.w3.org/2000/svg\" height=\"24px\" viewBox=\"0 -960 960 960\">\n",
              "    <path d=\"M120-120v-720h720v720H120Zm60-500h600v-160H180v160Zm220 220h160v-160H400v160Zm0 220h160v-160H400v160ZM180-400h160v-160H180v160Zm440 0h160v-160H620v160ZM180-180h160v-160H180v160Zm440 0h160v-160H620v160Z\"/>\n",
              "  </svg>\n",
              "    </button>\n",
              "\n",
              "  <style>\n",
              "    .colab-df-container {\n",
              "      display:flex;\n",
              "      gap: 12px;\n",
              "    }\n",
              "\n",
              "    .colab-df-convert {\n",
              "      background-color: #E8F0FE;\n",
              "      border: none;\n",
              "      border-radius: 50%;\n",
              "      cursor: pointer;\n",
              "      display: none;\n",
              "      fill: #1967D2;\n",
              "      height: 32px;\n",
              "      padding: 0 0 0 0;\n",
              "      width: 32px;\n",
              "    }\n",
              "\n",
              "    .colab-df-convert:hover {\n",
              "      background-color: #E2EBFA;\n",
              "      box-shadow: 0px 1px 2px rgba(60, 64, 67, 0.3), 0px 1px 3px 1px rgba(60, 64, 67, 0.15);\n",
              "      fill: #174EA6;\n",
              "    }\n",
              "\n",
              "    .colab-df-buttons div {\n",
              "      margin-bottom: 4px;\n",
              "    }\n",
              "\n",
              "    [theme=dark] .colab-df-convert {\n",
              "      background-color: #3B4455;\n",
              "      fill: #D2E3FC;\n",
              "    }\n",
              "\n",
              "    [theme=dark] .colab-df-convert:hover {\n",
              "      background-color: #434B5C;\n",
              "      box-shadow: 0px 1px 3px 1px rgba(0, 0, 0, 0.15);\n",
              "      filter: drop-shadow(0px 1px 2px rgba(0, 0, 0, 0.3));\n",
              "      fill: #FFFFFF;\n",
              "    }\n",
              "  </style>\n",
              "\n",
              "    <script>\n",
              "      const buttonEl =\n",
              "        document.querySelector('#df-dfcc09c7-4bb7-4d31-9604-4a377d02cd13 button.colab-df-convert');\n",
              "      buttonEl.style.display =\n",
              "        google.colab.kernel.accessAllowed ? 'block' : 'none';\n",
              "\n",
              "      async function convertToInteractive(key) {\n",
              "        const element = document.querySelector('#df-dfcc09c7-4bb7-4d31-9604-4a377d02cd13');\n",
              "        const dataTable =\n",
              "          await google.colab.kernel.invokeFunction('convertToInteractive',\n",
              "                                                    [key], {});\n",
              "        if (!dataTable) return;\n",
              "\n",
              "        const docLinkHtml = 'Like what you see? Visit the ' +\n",
              "          '<a target=\"_blank\" href=https://colab.research.google.com/notebooks/data_table.ipynb>data table notebook</a>'\n",
              "          + ' to learn more about interactive tables.';\n",
              "        element.innerHTML = '';\n",
              "        dataTable['output_type'] = 'display_data';\n",
              "        await google.colab.output.renderOutput(dataTable, element);\n",
              "        const docLink = document.createElement('div');\n",
              "        docLink.innerHTML = docLinkHtml;\n",
              "        element.appendChild(docLink);\n",
              "      }\n",
              "    </script>\n",
              "  </div>\n",
              "\n",
              "\n",
              "<div id=\"df-c884eddf-08c3-4448-8877-acd1609bd4c6\">\n",
              "  <button class=\"colab-df-quickchart\" onclick=\"quickchart('df-c884eddf-08c3-4448-8877-acd1609bd4c6')\"\n",
              "            title=\"Suggest charts\"\n",
              "            style=\"display:none;\">\n",
              "\n",
              "<svg xmlns=\"http://www.w3.org/2000/svg\" height=\"24px\"viewBox=\"0 0 24 24\"\n",
              "     width=\"24px\">\n",
              "    <g>\n",
              "        <path d=\"M19 3H5c-1.1 0-2 .9-2 2v14c0 1.1.9 2 2 2h14c1.1 0 2-.9 2-2V5c0-1.1-.9-2-2-2zM9 17H7v-7h2v7zm4 0h-2V7h2v10zm4 0h-2v-4h2v4z\"/>\n",
              "    </g>\n",
              "</svg>\n",
              "  </button>\n",
              "\n",
              "<style>\n",
              "  .colab-df-quickchart {\n",
              "      --bg-color: #E8F0FE;\n",
              "      --fill-color: #1967D2;\n",
              "      --hover-bg-color: #E2EBFA;\n",
              "      --hover-fill-color: #174EA6;\n",
              "      --disabled-fill-color: #AAA;\n",
              "      --disabled-bg-color: #DDD;\n",
              "  }\n",
              "\n",
              "  [theme=dark] .colab-df-quickchart {\n",
              "      --bg-color: #3B4455;\n",
              "      --fill-color: #D2E3FC;\n",
              "      --hover-bg-color: #434B5C;\n",
              "      --hover-fill-color: #FFFFFF;\n",
              "      --disabled-bg-color: #3B4455;\n",
              "      --disabled-fill-color: #666;\n",
              "  }\n",
              "\n",
              "  .colab-df-quickchart {\n",
              "    background-color: var(--bg-color);\n",
              "    border: none;\n",
              "    border-radius: 50%;\n",
              "    cursor: pointer;\n",
              "    display: none;\n",
              "    fill: var(--fill-color);\n",
              "    height: 32px;\n",
              "    padding: 0;\n",
              "    width: 32px;\n",
              "  }\n",
              "\n",
              "  .colab-df-quickchart:hover {\n",
              "    background-color: var(--hover-bg-color);\n",
              "    box-shadow: 0 1px 2px rgba(60, 64, 67, 0.3), 0 1px 3px 1px rgba(60, 64, 67, 0.15);\n",
              "    fill: var(--button-hover-fill-color);\n",
              "  }\n",
              "\n",
              "  .colab-df-quickchart-complete:disabled,\n",
              "  .colab-df-quickchart-complete:disabled:hover {\n",
              "    background-color: var(--disabled-bg-color);\n",
              "    fill: var(--disabled-fill-color);\n",
              "    box-shadow: none;\n",
              "  }\n",
              "\n",
              "  .colab-df-spinner {\n",
              "    border: 2px solid var(--fill-color);\n",
              "    border-color: transparent;\n",
              "    border-bottom-color: var(--fill-color);\n",
              "    animation:\n",
              "      spin 1s steps(1) infinite;\n",
              "  }\n",
              "\n",
              "  @keyframes spin {\n",
              "    0% {\n",
              "      border-color: transparent;\n",
              "      border-bottom-color: var(--fill-color);\n",
              "      border-left-color: var(--fill-color);\n",
              "    }\n",
              "    20% {\n",
              "      border-color: transparent;\n",
              "      border-left-color: var(--fill-color);\n",
              "      border-top-color: var(--fill-color);\n",
              "    }\n",
              "    30% {\n",
              "      border-color: transparent;\n",
              "      border-left-color: var(--fill-color);\n",
              "      border-top-color: var(--fill-color);\n",
              "      border-right-color: var(--fill-color);\n",
              "    }\n",
              "    40% {\n",
              "      border-color: transparent;\n",
              "      border-right-color: var(--fill-color);\n",
              "      border-top-color: var(--fill-color);\n",
              "    }\n",
              "    60% {\n",
              "      border-color: transparent;\n",
              "      border-right-color: var(--fill-color);\n",
              "    }\n",
              "    80% {\n",
              "      border-color: transparent;\n",
              "      border-right-color: var(--fill-color);\n",
              "      border-bottom-color: var(--fill-color);\n",
              "    }\n",
              "    90% {\n",
              "      border-color: transparent;\n",
              "      border-bottom-color: var(--fill-color);\n",
              "    }\n",
              "  }\n",
              "</style>\n",
              "\n",
              "  <script>\n",
              "    async function quickchart(key) {\n",
              "      const quickchartButtonEl =\n",
              "        document.querySelector('#' + key + ' button');\n",
              "      quickchartButtonEl.disabled = true;  // To prevent multiple clicks.\n",
              "      quickchartButtonEl.classList.add('colab-df-spinner');\n",
              "      try {\n",
              "        const charts = await google.colab.kernel.invokeFunction(\n",
              "            'suggestCharts', [key], {});\n",
              "      } catch (error) {\n",
              "        console.error('Error during call to suggestCharts:', error);\n",
              "      }\n",
              "      quickchartButtonEl.classList.remove('colab-df-spinner');\n",
              "      quickchartButtonEl.classList.add('colab-df-quickchart-complete');\n",
              "    }\n",
              "    (() => {\n",
              "      let quickchartButtonEl =\n",
              "        document.querySelector('#df-c884eddf-08c3-4448-8877-acd1609bd4c6 button');\n",
              "      quickchartButtonEl.style.display =\n",
              "        google.colab.kernel.accessAllowed ? 'block' : 'none';\n",
              "    })();\n",
              "  </script>\n",
              "</div>\n",
              "    </div>\n",
              "  </div>\n"
            ],
            "text/plain": [
              "                                                Comment  \\\n",
              "0     A few things. You might have negative- frequen...   \n",
              "1     Is it so hard to believe that there exist part...   \n",
              "2                                        There are bees   \n",
              "3     I'm a medication technician. And that's alot o...   \n",
              "4                        Cesium is such a pretty metal.   \n",
              "...                                                 ...   \n",
              "8690  I make similar observations over the last week...   \n",
              "8691                                    You would know.   \n",
              "8692            Also use the correct number of sig figs   \n",
              "8693  What about the ethical delimmas,  groundbreaki...   \n",
              "8694                          I would like to know too.   \n",
              "\n",
              "                                              Sin_Emoji  \\\n",
              "0     A few things. You might have negative- frequen...   \n",
              "1     Is it so hard to believe that there exist part...   \n",
              "2                                        There are bees   \n",
              "3     I'm a medication technician. And that's alot o...   \n",
              "4                        Cesium is such a pretty metal.   \n",
              "...                                                 ...   \n",
              "8690  I make similar observations over the last week...   \n",
              "8691                                    You would know.   \n",
              "8692            Also use the correct number of sig figs   \n",
              "8693  What about the ethical delimmas,  groundbreaki...   \n",
              "8694                          I would like to know too.   \n",
              "\n",
              "                                     Sin_atributos_HTML  \\\n",
              "0     A few things. You might have negative- frequen...   \n",
              "1     Is it so hard to believe that there exist part...   \n",
              "2                                        There are bees   \n",
              "3     I'm a medication technician. And that's alot o...   \n",
              "4                        Cesium is such a pretty metal.   \n",
              "...                                                 ...   \n",
              "8690  I make similar observations over the last week...   \n",
              "8691                                    You would know.   \n",
              "8692            Also use the correct number of sig figs   \n",
              "8693  What about the ethical delimmas,  groundbreaki...   \n",
              "8694                          I would like to know too.   \n",
              "\n",
              "                               Sin_signos_de_puntuacion  \\\n",
              "0     A few things You might have negative frequency...   \n",
              "1     Is it so hard to believe that there exist part...   \n",
              "2                                        There are bees   \n",
              "3     Im a medication technician And thats alot of d...   \n",
              "4                         Cesium is such a pretty metal   \n",
              "...                                                 ...   \n",
              "8690  I make similar observations over the last week...   \n",
              "8691                                     You would know   \n",
              "8692            Also use the correct number of sig figs   \n",
              "8693  What about the ethical delimmas  groundbreakin...   \n",
              "8694                           I would like to know too   \n",
              "\n",
              "                                         Con_minusculas  \n",
              "0     a few things you might have negative frequency...  \n",
              "1     is it so hard to believe that there exist part...  \n",
              "2                                        there are bees  \n",
              "3     im a medication technician and thats alot of d...  \n",
              "4                         cesium is such a pretty metal  \n",
              "...                                                 ...  \n",
              "8690  i make similar observations over the last week...  \n",
              "8691                                     you would know  \n",
              "8692            also use the correct number of sig figs  \n",
              "8693  what about the ethical delimmas  groundbreakin...  \n",
              "8694                           i would like to know too  \n",
              "\n",
              "[8695 rows x 5 columns]"
            ]
          },
          "execution_count": 25,
          "metadata": {},
          "output_type": "execute_result"
        }
      ],
      "source": [
        "train_comments"
      ]
    },
    {
      "attachments": {},
      "cell_type": "markdown",
      "metadata": {
        "id": "dar2dbBeJTtu"
      },
      "source": [
        "Test comments"
      ]
    },
    {
      "attachments": {},
      "cell_type": "markdown",
      "metadata": {
        "id": "XcvfwLzt4zo1"
      },
      "source": [
        "Se hace lo mismo para los comentarios de prueba"
      ]
    },
    {
      "cell_type": "code",
      "execution_count": 26,
      "metadata": {
        "id": "1pUIW7PObCmk"
      },
      "outputs": [],
      "source": [
        "test_comments = test_comments.assign(Sin_Emoji = test_comments['Comment'].apply(lambda x: EliminarEmoji(x)) )"
      ]
    },
    {
      "cell_type": "code",
      "execution_count": 27,
      "metadata": {
        "id": "pXOUHqYAJVUz"
      },
      "outputs": [],
      "source": [
        "test_comments['Sin_atributos_HTML'] = test_comments['Sin_Emoji'].apply(lambda x: Eliminar_atributo_html(x))\n",
        "test_comments[\"Sin_signos_de_puntuacion\"] = test_comments[\"Sin_atributos_HTML\"].apply(lambda text: Eliminar_punctuation(text))\n",
        "test_comments[\"Con_minusculas\"] = test_comments[\"Sin_signos_de_puntuacion\"].str.lower()"
      ]
    },
    {
      "cell_type": "code",
      "execution_count": 28,
      "metadata": {
        "colab": {
          "base_uri": "https://localhost:8080/",
          "height": 597
        },
        "id": "A1wYAXydJXYC",
        "outputId": "2754c394-98cd-42ce-b8b6-df03e133fd10"
      },
      "outputs": [
        {
          "data": {
            "text/html": [
              "\n",
              "  <div id=\"df-4ac06836-c6e3-4bc5-9389-1f482d41fde1\" class=\"colab-df-container\">\n",
              "    <div>\n",
              "<style scoped>\n",
              "    .dataframe tbody tr th:only-of-type {\n",
              "        vertical-align: middle;\n",
              "    }\n",
              "\n",
              "    .dataframe tbody tr th {\n",
              "        vertical-align: top;\n",
              "    }\n",
              "\n",
              "    .dataframe thead th {\n",
              "        text-align: right;\n",
              "    }\n",
              "</style>\n",
              "<table border=\"1\" class=\"dataframe\">\n",
              "  <thead>\n",
              "    <tr style=\"text-align: right;\">\n",
              "      <th></th>\n",
              "      <th>Comment</th>\n",
              "      <th>Sin_Emoji</th>\n",
              "      <th>Sin_atributos_HTML</th>\n",
              "      <th>Sin_signos_de_puntuacion</th>\n",
              "      <th>Con_minusculas</th>\n",
              "    </tr>\n",
              "  </thead>\n",
              "  <tbody>\n",
              "    <tr>\n",
              "      <th>0</th>\n",
              "      <td>Personally I have no idea what my IQ is. I’ve ...</td>\n",
              "      <td>Personally I have no idea what my IQ is. I’ve ...</td>\n",
              "      <td>Personally I have no idea what my IQ is. I’ve ...</td>\n",
              "      <td>Personally I have no idea what my IQ is I’ve n...</td>\n",
              "      <td>personally i have no idea what my iq is i’ve n...</td>\n",
              "    </tr>\n",
              "    <tr>\n",
              "      <th>1</th>\n",
              "      <td>I'm skeptical. A heavier lid would be needed t...</td>\n",
              "      <td>I'm skeptical. A heavier lid would be needed t...</td>\n",
              "      <td>I'm skeptical. A heavier lid would be needed t...</td>\n",
              "      <td>Im skeptical A heavier lid would be needed to ...</td>\n",
              "      <td>im skeptical a heavier lid would be needed to ...</td>\n",
              "    </tr>\n",
              "    <tr>\n",
              "      <th>2</th>\n",
              "      <td>I think I have 100 cm of books on the subject....</td>\n",
              "      <td>I think I have 100 cm of books on the subject....</td>\n",
              "      <td>I think I have 100 cm of books on the subject....</td>\n",
              "      <td>I think I have 100 cm of books on the subject ...</td>\n",
              "      <td>i think i have 100 cm of books on the subject ...</td>\n",
              "    </tr>\n",
              "    <tr>\n",
              "      <th>3</th>\n",
              "      <td>Is chemistry hard in uni. Ive read somewhere t...</td>\n",
              "      <td>Is chemistry hard in uni. Ive read somewhere t...</td>\n",
              "      <td>Is chemistry hard in uni. Ive read somewhere t...</td>\n",
              "      <td>Is chemistry hard in uni Ive read somewhere th...</td>\n",
              "      <td>is chemistry hard in uni ive read somewhere th...</td>\n",
              "    </tr>\n",
              "    <tr>\n",
              "      <th>4</th>\n",
              "      <td>In addition to the other comment, you can crit...</td>\n",
              "      <td>In addition to the other comment, you can crit...</td>\n",
              "      <td>In addition to the other comment, you can crit...</td>\n",
              "      <td>In addition to the other comment you can criti...</td>\n",
              "      <td>in addition to the other comment you can criti...</td>\n",
              "    </tr>\n",
              "    <tr>\n",
              "      <th>...</th>\n",
              "      <td>...</td>\n",
              "      <td>...</td>\n",
              "      <td>...</td>\n",
              "      <td>...</td>\n",
              "      <td>...</td>\n",
              "    </tr>\n",
              "    <tr>\n",
              "      <th>1581</th>\n",
              "      <td>I’m not really denying your intent. I’m a) dou...</td>\n",
              "      <td>I’m not really denying your intent. I’m a) dou...</td>\n",
              "      <td>I’m not really denying your intent. I’m a) dou...</td>\n",
              "      <td>I’m not really denying your intent I’m a doubt...</td>\n",
              "      <td>i’m not really denying your intent i’m a doubt...</td>\n",
              "    </tr>\n",
              "    <tr>\n",
              "      <th>1582</th>\n",
              "      <td>i really empathize with your compassion for bu...</td>\n",
              "      <td>i really empathize with your compassion for bu...</td>\n",
              "      <td>i really empathize with your compassion for bu...</td>\n",
              "      <td>i really empathize with your compassion for bu...</td>\n",
              "      <td>i really empathize with your compassion for bu...</td>\n",
              "    </tr>\n",
              "    <tr>\n",
              "      <th>1583</th>\n",
              "      <td>If you want to keep it for more than 2 weeks, ...</td>\n",
              "      <td>If you want to keep it for more than 2 weeks, ...</td>\n",
              "      <td>If you want to keep it for more than 2 weeks, ...</td>\n",
              "      <td>If you want to keep it for more than 2 weeks I...</td>\n",
              "      <td>if you want to keep it for more than 2 weeks i...</td>\n",
              "    </tr>\n",
              "    <tr>\n",
              "      <th>1584</th>\n",
              "      <td>Same here. I’m in nursing school so I only hav...</td>\n",
              "      <td>Same here. I’m in nursing school so I only hav...</td>\n",
              "      <td>Same here. I’m in nursing school so I only hav...</td>\n",
              "      <td>Same here I’m in nursing school so I only have...</td>\n",
              "      <td>same here i’m in nursing school so i only have...</td>\n",
              "    </tr>\n",
              "    <tr>\n",
              "      <th>1585</th>\n",
              "      <td>The video basically says read a pop-sci book a...</td>\n",
              "      <td>The video basically says read a pop-sci book a...</td>\n",
              "      <td>The video basically says read a pop-sci book a...</td>\n",
              "      <td>The video basically says read a popsci book an...</td>\n",
              "      <td>the video basically says read a popsci book an...</td>\n",
              "    </tr>\n",
              "  </tbody>\n",
              "</table>\n",
              "<p>1586 rows × 5 columns</p>\n",
              "</div>\n",
              "    <div class=\"colab-df-buttons\">\n",
              "\n",
              "  <div class=\"colab-df-container\">\n",
              "    <button class=\"colab-df-convert\" onclick=\"convertToInteractive('df-4ac06836-c6e3-4bc5-9389-1f482d41fde1')\"\n",
              "            title=\"Convert this dataframe to an interactive table.\"\n",
              "            style=\"display:none;\">\n",
              "\n",
              "  <svg xmlns=\"http://www.w3.org/2000/svg\" height=\"24px\" viewBox=\"0 -960 960 960\">\n",
              "    <path d=\"M120-120v-720h720v720H120Zm60-500h600v-160H180v160Zm220 220h160v-160H400v160Zm0 220h160v-160H400v160ZM180-400h160v-160H180v160Zm440 0h160v-160H620v160ZM180-180h160v-160H180v160Zm440 0h160v-160H620v160Z\"/>\n",
              "  </svg>\n",
              "    </button>\n",
              "\n",
              "  <style>\n",
              "    .colab-df-container {\n",
              "      display:flex;\n",
              "      gap: 12px;\n",
              "    }\n",
              "\n",
              "    .colab-df-convert {\n",
              "      background-color: #E8F0FE;\n",
              "      border: none;\n",
              "      border-radius: 50%;\n",
              "      cursor: pointer;\n",
              "      display: none;\n",
              "      fill: #1967D2;\n",
              "      height: 32px;\n",
              "      padding: 0 0 0 0;\n",
              "      width: 32px;\n",
              "    }\n",
              "\n",
              "    .colab-df-convert:hover {\n",
              "      background-color: #E2EBFA;\n",
              "      box-shadow: 0px 1px 2px rgba(60, 64, 67, 0.3), 0px 1px 3px 1px rgba(60, 64, 67, 0.15);\n",
              "      fill: #174EA6;\n",
              "    }\n",
              "\n",
              "    .colab-df-buttons div {\n",
              "      margin-bottom: 4px;\n",
              "    }\n",
              "\n",
              "    [theme=dark] .colab-df-convert {\n",
              "      background-color: #3B4455;\n",
              "      fill: #D2E3FC;\n",
              "    }\n",
              "\n",
              "    [theme=dark] .colab-df-convert:hover {\n",
              "      background-color: #434B5C;\n",
              "      box-shadow: 0px 1px 3px 1px rgba(0, 0, 0, 0.15);\n",
              "      filter: drop-shadow(0px 1px 2px rgba(0, 0, 0, 0.3));\n",
              "      fill: #FFFFFF;\n",
              "    }\n",
              "  </style>\n",
              "\n",
              "    <script>\n",
              "      const buttonEl =\n",
              "        document.querySelector('#df-4ac06836-c6e3-4bc5-9389-1f482d41fde1 button.colab-df-convert');\n",
              "      buttonEl.style.display =\n",
              "        google.colab.kernel.accessAllowed ? 'block' : 'none';\n",
              "\n",
              "      async function convertToInteractive(key) {\n",
              "        const element = document.querySelector('#df-4ac06836-c6e3-4bc5-9389-1f482d41fde1');\n",
              "        const dataTable =\n",
              "          await google.colab.kernel.invokeFunction('convertToInteractive',\n",
              "                                                    [key], {});\n",
              "        if (!dataTable) return;\n",
              "\n",
              "        const docLinkHtml = 'Like what you see? Visit the ' +\n",
              "          '<a target=\"_blank\" href=https://colab.research.google.com/notebooks/data_table.ipynb>data table notebook</a>'\n",
              "          + ' to learn more about interactive tables.';\n",
              "        element.innerHTML = '';\n",
              "        dataTable['output_type'] = 'display_data';\n",
              "        await google.colab.output.renderOutput(dataTable, element);\n",
              "        const docLink = document.createElement('div');\n",
              "        docLink.innerHTML = docLinkHtml;\n",
              "        element.appendChild(docLink);\n",
              "      }\n",
              "    </script>\n",
              "  </div>\n",
              "\n",
              "\n",
              "<div id=\"df-46e4789f-28ae-4314-ba12-d978c595c6da\">\n",
              "  <button class=\"colab-df-quickchart\" onclick=\"quickchart('df-46e4789f-28ae-4314-ba12-d978c595c6da')\"\n",
              "            title=\"Suggest charts\"\n",
              "            style=\"display:none;\">\n",
              "\n",
              "<svg xmlns=\"http://www.w3.org/2000/svg\" height=\"24px\"viewBox=\"0 0 24 24\"\n",
              "     width=\"24px\">\n",
              "    <g>\n",
              "        <path d=\"M19 3H5c-1.1 0-2 .9-2 2v14c0 1.1.9 2 2 2h14c1.1 0 2-.9 2-2V5c0-1.1-.9-2-2-2zM9 17H7v-7h2v7zm4 0h-2V7h2v10zm4 0h-2v-4h2v4z\"/>\n",
              "    </g>\n",
              "</svg>\n",
              "  </button>\n",
              "\n",
              "<style>\n",
              "  .colab-df-quickchart {\n",
              "      --bg-color: #E8F0FE;\n",
              "      --fill-color: #1967D2;\n",
              "      --hover-bg-color: #E2EBFA;\n",
              "      --hover-fill-color: #174EA6;\n",
              "      --disabled-fill-color: #AAA;\n",
              "      --disabled-bg-color: #DDD;\n",
              "  }\n",
              "\n",
              "  [theme=dark] .colab-df-quickchart {\n",
              "      --bg-color: #3B4455;\n",
              "      --fill-color: #D2E3FC;\n",
              "      --hover-bg-color: #434B5C;\n",
              "      --hover-fill-color: #FFFFFF;\n",
              "      --disabled-bg-color: #3B4455;\n",
              "      --disabled-fill-color: #666;\n",
              "  }\n",
              "\n",
              "  .colab-df-quickchart {\n",
              "    background-color: var(--bg-color);\n",
              "    border: none;\n",
              "    border-radius: 50%;\n",
              "    cursor: pointer;\n",
              "    display: none;\n",
              "    fill: var(--fill-color);\n",
              "    height: 32px;\n",
              "    padding: 0;\n",
              "    width: 32px;\n",
              "  }\n",
              "\n",
              "  .colab-df-quickchart:hover {\n",
              "    background-color: var(--hover-bg-color);\n",
              "    box-shadow: 0 1px 2px rgba(60, 64, 67, 0.3), 0 1px 3px 1px rgba(60, 64, 67, 0.15);\n",
              "    fill: var(--button-hover-fill-color);\n",
              "  }\n",
              "\n",
              "  .colab-df-quickchart-complete:disabled,\n",
              "  .colab-df-quickchart-complete:disabled:hover {\n",
              "    background-color: var(--disabled-bg-color);\n",
              "    fill: var(--disabled-fill-color);\n",
              "    box-shadow: none;\n",
              "  }\n",
              "\n",
              "  .colab-df-spinner {\n",
              "    border: 2px solid var(--fill-color);\n",
              "    border-color: transparent;\n",
              "    border-bottom-color: var(--fill-color);\n",
              "    animation:\n",
              "      spin 1s steps(1) infinite;\n",
              "  }\n",
              "\n",
              "  @keyframes spin {\n",
              "    0% {\n",
              "      border-color: transparent;\n",
              "      border-bottom-color: var(--fill-color);\n",
              "      border-left-color: var(--fill-color);\n",
              "    }\n",
              "    20% {\n",
              "      border-color: transparent;\n",
              "      border-left-color: var(--fill-color);\n",
              "      border-top-color: var(--fill-color);\n",
              "    }\n",
              "    30% {\n",
              "      border-color: transparent;\n",
              "      border-left-color: var(--fill-color);\n",
              "      border-top-color: var(--fill-color);\n",
              "      border-right-color: var(--fill-color);\n",
              "    }\n",
              "    40% {\n",
              "      border-color: transparent;\n",
              "      border-right-color: var(--fill-color);\n",
              "      border-top-color: var(--fill-color);\n",
              "    }\n",
              "    60% {\n",
              "      border-color: transparent;\n",
              "      border-right-color: var(--fill-color);\n",
              "    }\n",
              "    80% {\n",
              "      border-color: transparent;\n",
              "      border-right-color: var(--fill-color);\n",
              "      border-bottom-color: var(--fill-color);\n",
              "    }\n",
              "    90% {\n",
              "      border-color: transparent;\n",
              "      border-bottom-color: var(--fill-color);\n",
              "    }\n",
              "  }\n",
              "</style>\n",
              "\n",
              "  <script>\n",
              "    async function quickchart(key) {\n",
              "      const quickchartButtonEl =\n",
              "        document.querySelector('#' + key + ' button');\n",
              "      quickchartButtonEl.disabled = true;  // To prevent multiple clicks.\n",
              "      quickchartButtonEl.classList.add('colab-df-spinner');\n",
              "      try {\n",
              "        const charts = await google.colab.kernel.invokeFunction(\n",
              "            'suggestCharts', [key], {});\n",
              "      } catch (error) {\n",
              "        console.error('Error during call to suggestCharts:', error);\n",
              "      }\n",
              "      quickchartButtonEl.classList.remove('colab-df-spinner');\n",
              "      quickchartButtonEl.classList.add('colab-df-quickchart-complete');\n",
              "    }\n",
              "    (() => {\n",
              "      let quickchartButtonEl =\n",
              "        document.querySelector('#df-46e4789f-28ae-4314-ba12-d978c595c6da button');\n",
              "      quickchartButtonEl.style.display =\n",
              "        google.colab.kernel.accessAllowed ? 'block' : 'none';\n",
              "    })();\n",
              "  </script>\n",
              "</div>\n",
              "    </div>\n",
              "  </div>\n"
            ],
            "text/plain": [
              "                                                Comment  \\\n",
              "0     Personally I have no idea what my IQ is. I’ve ...   \n",
              "1     I'm skeptical. A heavier lid would be needed t...   \n",
              "2     I think I have 100 cm of books on the subject....   \n",
              "3     Is chemistry hard in uni. Ive read somewhere t...   \n",
              "4     In addition to the other comment, you can crit...   \n",
              "...                                                 ...   \n",
              "1581  I’m not really denying your intent. I’m a) dou...   \n",
              "1582  i really empathize with your compassion for bu...   \n",
              "1583  If you want to keep it for more than 2 weeks, ...   \n",
              "1584  Same here. I’m in nursing school so I only hav...   \n",
              "1585  The video basically says read a pop-sci book a...   \n",
              "\n",
              "                                              Sin_Emoji  \\\n",
              "0     Personally I have no idea what my IQ is. I’ve ...   \n",
              "1     I'm skeptical. A heavier lid would be needed t...   \n",
              "2     I think I have 100 cm of books on the subject....   \n",
              "3     Is chemistry hard in uni. Ive read somewhere t...   \n",
              "4     In addition to the other comment, you can crit...   \n",
              "...                                                 ...   \n",
              "1581  I’m not really denying your intent. I’m a) dou...   \n",
              "1582  i really empathize with your compassion for bu...   \n",
              "1583  If you want to keep it for more than 2 weeks, ...   \n",
              "1584  Same here. I’m in nursing school so I only hav...   \n",
              "1585  The video basically says read a pop-sci book a...   \n",
              "\n",
              "                                     Sin_atributos_HTML  \\\n",
              "0     Personally I have no idea what my IQ is. I’ve ...   \n",
              "1     I'm skeptical. A heavier lid would be needed t...   \n",
              "2     I think I have 100 cm of books on the subject....   \n",
              "3     Is chemistry hard in uni. Ive read somewhere t...   \n",
              "4     In addition to the other comment, you can crit...   \n",
              "...                                                 ...   \n",
              "1581  I’m not really denying your intent. I’m a) dou...   \n",
              "1582  i really empathize with your compassion for bu...   \n",
              "1583  If you want to keep it for more than 2 weeks, ...   \n",
              "1584  Same here. I’m in nursing school so I only hav...   \n",
              "1585  The video basically says read a pop-sci book a...   \n",
              "\n",
              "                               Sin_signos_de_puntuacion  \\\n",
              "0     Personally I have no idea what my IQ is I’ve n...   \n",
              "1     Im skeptical A heavier lid would be needed to ...   \n",
              "2     I think I have 100 cm of books on the subject ...   \n",
              "3     Is chemistry hard in uni Ive read somewhere th...   \n",
              "4     In addition to the other comment you can criti...   \n",
              "...                                                 ...   \n",
              "1581  I’m not really denying your intent I’m a doubt...   \n",
              "1582  i really empathize with your compassion for bu...   \n",
              "1583  If you want to keep it for more than 2 weeks I...   \n",
              "1584  Same here I’m in nursing school so I only have...   \n",
              "1585  The video basically says read a popsci book an...   \n",
              "\n",
              "                                         Con_minusculas  \n",
              "0     personally i have no idea what my iq is i’ve n...  \n",
              "1     im skeptical a heavier lid would be needed to ...  \n",
              "2     i think i have 100 cm of books on the subject ...  \n",
              "3     is chemistry hard in uni ive read somewhere th...  \n",
              "4     in addition to the other comment you can criti...  \n",
              "...                                                 ...  \n",
              "1581  i’m not really denying your intent i’m a doubt...  \n",
              "1582  i really empathize with your compassion for bu...  \n",
              "1583  if you want to keep it for more than 2 weeks i...  \n",
              "1584  same here i’m in nursing school so i only have...  \n",
              "1585  the video basically says read a popsci book an...  \n",
              "\n",
              "[1586 rows x 5 columns]"
            ]
          },
          "execution_count": 28,
          "metadata": {},
          "output_type": "execute_result"
        }
      ],
      "source": [
        "test_comments"
      ]
    },
    {
      "attachments": {},
      "cell_type": "markdown",
      "metadata": {
        "id": "AZBcYxsuplvu"
      },
      "source": [
        "# Label Encoder"
      ]
    },
    {
      "attachments": {},
      "cell_type": "markdown",
      "metadata": {
        "id": "rJrCoWqGeWs4"
      },
      "source": [
        "Importamos funciones."
      ]
    },
    {
      "cell_type": "code",
      "execution_count": null,
      "metadata": {
        "id": "QMbrGAWpmlqY"
      },
      "outputs": [],
      "source": [
        "import tensorflow\n",
        "from sklearn import preprocessing\n",
        "from tensorflow.keras.utils import to_categorical\n",
        "le = preprocessing.LabelEncoder()"
      ]
    },
    {
      "cell_type": "code",
      "execution_count": null,
      "metadata": {
        "colab": {
          "base_uri": "https://localhost:8080/"
        },
        "id": "Quk4YSmXoxzv",
        "outputId": "422febf7-35b0-4f6e-e1de-b41a617605f1"
      },
      "outputs": [
        {
          "data": {
            "text/plain": [
              "0       Biología\n",
              "1         Física\n",
              "2       Biología\n",
              "3       Biología\n",
              "4        Química\n",
              "          ...   \n",
              "8690    Biología\n",
              "8691    Biología\n",
              "8692     Química\n",
              "8693    Biología\n",
              "8694    Biología\n",
              "Name: Topic, Length: 8695, dtype: object"
            ]
          },
          "execution_count": 56,
          "metadata": {},
          "output_type": "execute_result"
        }
      ],
      "source": [
        "train_topic['Topic']"
      ]
    },
    {
      "attachments": {},
      "cell_type": "markdown",
      "metadata": {
        "id": "PeoxalrseeeW"
      },
      "source": [
        "Se codifican las etiquetas."
      ]
    },
    {
      "cell_type": "code",
      "execution_count": null,
      "metadata": {
        "id": "Ml0vVKVEoyHW"
      },
      "outputs": [],
      "source": [
        "train_labels = le.fit_transform(train_topic['Topic'])\n",
        "test_labels = le.fit_transform(test_topic['Topic'])"
      ]
    },
    {
      "cell_type": "code",
      "execution_count": null,
      "metadata": {
        "colab": {
          "base_uri": "https://localhost:8080/"
        },
        "id": "pHjxEfTho-ot",
        "outputId": "83babe8a-02b6-425d-ce64-c922e21ed159"
      },
      "outputs": [
        {
          "name": "stdout",
          "output_type": "stream",
          "text": [
            "[0 1 0 ... 2 0 0]\n",
            "[0 1 0 ... 2 0 1]\n"
          ]
        }
      ],
      "source": [
        "print(train_labels)\n",
        "print(test_labels)"
      ]
    },
    {
      "attachments": {},
      "cell_type": "markdown",
      "metadata": {
        "id": "M5_WkUUniGLF"
      },
      "source": [
        "Se convierte la lista en vectores de 0s y 1s."
      ]
    },
    {
      "cell_type": "code",
      "execution_count": null,
      "metadata": {
        "id": "RJUZP97BNXWy"
      },
      "outputs": [],
      "source": [
        "y_train = to_categorical(train_labels)\n",
        "y_test = to_categorical(test_labels)"
      ]
    },
    {
      "cell_type": "code",
      "execution_count": null,
      "metadata": {
        "colab": {
          "base_uri": "https://localhost:8080/"
        },
        "id": "bkpTSvdxN4_Y",
        "outputId": "53f0b3b8-56ba-4d70-8feb-3d0dd203504a"
      },
      "outputs": [
        {
          "name": "stdout",
          "output_type": "stream",
          "text": [
            "[[1. 0. 0.]\n",
            " [0. 1. 0.]\n",
            " [1. 0. 0.]\n",
            " ...\n",
            " [0. 0. 1.]\n",
            " [1. 0. 0.]\n",
            " [1. 0. 0.]]\n"
          ]
        }
      ],
      "source": [
        "print(y_train)"
      ]
    },
    {
      "cell_type": "code",
      "execution_count": null,
      "metadata": {
        "id": "T3Hu-QPt8n9-"
      },
      "outputs": [],
      "source": [
        "import nltk\n",
        "from nltk.corpus import stopwords"
      ]
    },
    {
      "cell_type": "code",
      "execution_count": null,
      "metadata": {
        "colab": {
          "base_uri": "https://localhost:8080/"
        },
        "id": "WUBYOmWF8pjz",
        "outputId": "38efbefb-5573-450f-8859-60451c7c7abe"
      },
      "outputs": [
        {
          "name": "stderr",
          "output_type": "stream",
          "text": [
            "[nltk_data] Downloading package stopwords to /root/nltk_data...\n",
            "[nltk_data]   Unzipping corpora/stopwords.zip.\n"
          ]
        },
        {
          "data": {
            "text/plain": [
              "True"
            ]
          },
          "execution_count": 62,
          "metadata": {},
          "output_type": "execute_result"
        }
      ],
      "source": [
        "nltk.download('stopwords')"
      ]
    },
    {
      "cell_type": "code",
      "execution_count": null,
      "metadata": {
        "id": "BLqAGueh8sZW"
      },
      "outputs": [],
      "source": [
        "stopwords = nltk.corpus.stopwords.words('english')"
      ]
    },
    {
      "attachments": {},
      "cell_type": "markdown",
      "metadata": {
        "id": "CZEYNa6viYVO"
      },
      "source": [
        "Se utiliza TfidVectorizar en los comentarios para obtener los vectores de valores correspondientes."
      ]
    },
    {
      "cell_type": "code",
      "execution_count": null,
      "metadata": {
        "id": "O8GGj0gbrTQc"
      },
      "outputs": [],
      "source": [
        "from sklearn.feature_extraction.text import  TfidfVectorizer\n",
        "\n",
        "vectorizador = TfidfVectorizer(stop_words=stopwords)\n",
        "\n",
        "valores = vectorizador.fit_transform(train_comments['Con_minusculas'])"
      ]
    },
    {
      "cell_type": "code",
      "execution_count": null,
      "metadata": {
        "id": "S8LuTFSrYuTu"
      },
      "outputs": [],
      "source": [
        "vocabulary1 = vectorizador.get_feature_names_out()"
      ]
    },
    {
      "cell_type": "code",
      "execution_count": null,
      "metadata": {
        "id": "o8r-DEUNeVHF"
      },
      "outputs": [],
      "source": [
        "vectorizador = TfidfVectorizer(stop_words=stopwords, vocabulary = vocabulary1)\n",
        "\n",
        "valores1 = vectorizador.fit_transform(test_comments['Con_minusculas'])"
      ]
    },
    {
      "cell_type": "code",
      "execution_count": null,
      "metadata": {
        "colab": {
          "base_uri": "https://localhost:8080/"
        },
        "id": "DyLMHm7WxSdT",
        "outputId": "b6616d72-cc8a-49b7-fa07-34ff6f775bf6"
      },
      "outputs": [
        {
          "name": "stdout",
          "output_type": "stream",
          "text": [
            "¨¨¨ Vector de valores ¨¨\n",
            "  (0, 10730)\t0.5235189343742549\n",
            "  (0, 13786)\t0.38516072224415676\n",
            "  (0, 3083)\t0.7599862784235016\n"
          ]
        }
      ],
      "source": [
        "print (\"¨¨¨ Vector de valores ¨¨\")\n",
        "print (valores[4])"
      ]
    },
    {
      "cell_type": "code",
      "execution_count": null,
      "metadata": {
        "colab": {
          "base_uri": "https://localhost:8080/",
          "height": 35
        },
        "id": "3-letsjFPezE",
        "outputId": "0361584d-a7bb-4634-bed2-5a86737cb3a5"
      },
      "outputs": [
        {
          "data": {
            "application/vnd.google.colaboratory.intrinsic+json": {
              "type": "string"
            },
            "text/plain": [
              "'metal'"
            ]
          },
          "execution_count": 68,
          "metadata": {},
          "output_type": "execute_result"
        }
      ],
      "source": [
        "vectorizador.get_feature_names_out()[10730]"
      ]
    },
    {
      "cell_type": "code",
      "execution_count": null,
      "metadata": {
        "colab": {
          "base_uri": "https://localhost:8080/",
          "height": 35
        },
        "id": "HSkpmFXkPkMZ",
        "outputId": "c9f77731-317a-4e4e-c577-aa1e6ade3492"
      },
      "outputs": [
        {
          "data": {
            "application/vnd.google.colaboratory.intrinsic+json": {
              "type": "string"
            },
            "text/plain": [
              "'cesium is such a pretty metal'"
            ]
          },
          "execution_count": 69,
          "metadata": {},
          "output_type": "execute_result"
        }
      ],
      "source": [
        "train_comments['Con_minusculas'][4]"
      ]
    },
    {
      "cell_type": "code",
      "execution_count": null,
      "metadata": {
        "id": "kMqKoxPIE0vm"
      },
      "outputs": [],
      "source": [
        "x_train = valores.toarray()\n",
        "x_test = valores1.toarray()"
      ]
    },
    {
      "cell_type": "code",
      "execution_count": null,
      "metadata": {
        "colab": {
          "base_uri": "https://localhost:8080/"
        },
        "id": "OtsxXVPvLSWV",
        "outputId": "e6f8a663-bde3-47b2-9c1f-0c7fa3696ee9"
      },
      "outputs": [
        {
          "data": {
            "text/plain": [
              "(1586, 19720)"
            ]
          },
          "execution_count": 71,
          "metadata": {},
          "output_type": "execute_result"
        }
      ],
      "source": [
        "x_test.shape"
      ]
    },
    {
      "cell_type": "code",
      "execution_count": null,
      "metadata": {
        "colab": {
          "base_uri": "https://localhost:8080/"
        },
        "id": "d1se6cbuI0Iv",
        "outputId": "dba3500c-4daf-4f73-ab00-8ca031af0881"
      },
      "outputs": [
        {
          "data": {
            "text/plain": [
              "array([[0., 0., 0., ..., 0., 0., 0.],\n",
              "       [0., 0., 0., ..., 0., 0., 0.],\n",
              "       [0., 0., 0., ..., 0., 0., 0.],\n",
              "       ...,\n",
              "       [0., 0., 0., ..., 0., 0., 0.],\n",
              "       [0., 0., 0., ..., 0., 0., 0.],\n",
              "       [0., 0., 0., ..., 0., 0., 0.]])"
            ]
          },
          "execution_count": 72,
          "metadata": {},
          "output_type": "execute_result"
        }
      ],
      "source": [
        "x_test"
      ]
    },
    {
      "attachments": {},
      "cell_type": "markdown",
      "metadata": {
        "id": "0ek8bDoSGSQn"
      },
      "source": [
        "# Creacion del modelo"
      ]
    },
    {
      "attachments": {},
      "cell_type": "markdown",
      "metadata": {
        "id": "vp4ip6MBisES"
      },
      "source": [
        "Se crea al modelo."
      ]
    },
    {
      "cell_type": "code",
      "execution_count": null,
      "metadata": {
        "id": "qnHor-5ZGUNb"
      },
      "outputs": [],
      "source": [
        "from tensorflow import keras\n",
        "from tensorflow.keras import layers\n",
        "from tensorflow.keras import regularizers\n",
        "\n",
        "model = keras.Sequential([\n",
        "    layers.Dense(8, activation=\"relu\", kernel_regularizer = regularizers.l2(l2 = 0.001) ),\n",
        "    layers.Dropout(0.5),\n",
        "    layers.Dense(4, activation=\"relu\"),\n",
        "    layers.Dropout(0.25),\n",
        "    layers.Dense(3, activation=\"softmax\")\n",
        "])"
      ]
    },
    {
      "attachments": {},
      "cell_type": "markdown",
      "metadata": {
        "id": "ESkTb-j8it2C"
      },
      "source": [
        "Se compila al modelo."
      ]
    },
    {
      "cell_type": "code",
      "execution_count": null,
      "metadata": {
        "id": "w72AgD7cOeQF"
      },
      "outputs": [],
      "source": [
        "model.compile(optimizer=\"rmsprop\", #Por defecto learning_rate=0.001\n",
        "              loss=\"categorical_crossentropy\",\n",
        "              metrics=[\"accuracy\"])"
      ]
    },
    {
      "cell_type": "code",
      "execution_count": null,
      "metadata": {
        "id": "Xin8XfQB7IoX"
      },
      "outputs": [],
      "source": [
        "x_val = x_train[:1000]\n",
        "partial_x_train = x_train[1000:]\n",
        "y_val = y_train[:1000]\n",
        "partial_y_train = y_train[1000:]"
      ]
    },
    {
      "attachments": {},
      "cell_type": "markdown",
      "metadata": {
        "id": "rXw3FkvkivXd"
      },
      "source": [
        "Se usa el callback Model Checkpoint."
      ]
    },
    {
      "cell_type": "code",
      "execution_count": null,
      "metadata": {
        "id": "mnaQT4QA6A0Q"
      },
      "outputs": [],
      "source": [
        "callbacks = [\n",
        "    keras.callbacks.ModelCheckpoint(\n",
        "        filepath = \"Best\",\n",
        "        save_best_only = True,\n",
        "        monitor = \"val_loss\"\n",
        "    )\n",
        "]"
      ]
    },
    {
      "cell_type": "code",
      "execution_count": null,
      "metadata": {
        "id": "Yg2d8Z-CP6ZO"
      },
      "outputs": [],
      "source": [
        "callback = [\n",
        "      keras.callbacks.EarlyStopping(\n",
        "        monitor='val_loss',\n",
        "        patience=5\n",
        "        )\n",
        "    ]"
      ]
    },
    {
      "attachments": {},
      "cell_type": "markdown",
      "metadata": {
        "id": "HrLFhsT7izPT"
      },
      "source": [
        "Se ajusta el modelo a los datos de entrenamiento."
      ]
    },
    {
      "cell_type": "code",
      "execution_count": null,
      "metadata": {
        "colab": {
          "base_uri": "https://localhost:8080/"
        },
        "id": "7cjkUKyhPJcg",
        "outputId": "ac0f7fb5-5652-4b8f-ef27-f68e8cda5c1f"
      },
      "outputs": [
        {
          "name": "stdout",
          "output_type": "stream",
          "text": [
            "Epoch 1/200\n",
            "16/16 [==============================] - 7s 314ms/step - loss: 1.1112 - accuracy: 0.3981 - val_loss: 1.1079 - val_accuracy: 0.4100\n",
            "Epoch 2/200\n",
            "16/16 [==============================] - 7s 425ms/step - loss: 1.1048 - accuracy: 0.4295 - val_loss: 1.1029 - val_accuracy: 0.4210\n",
            "Epoch 3/200\n",
            "16/16 [==============================] - 1s 59ms/step - loss: 1.0985 - accuracy: 0.4681 - val_loss: 1.0973 - val_accuracy: 0.4780\n",
            "Epoch 4/200\n",
            "16/16 [==============================] - 1s 62ms/step - loss: 1.0906 - accuracy: 0.5084 - val_loss: 1.0911 - val_accuracy: 0.5240\n",
            "Epoch 5/200\n",
            "16/16 [==============================] - 1s 63ms/step - loss: 1.0825 - accuracy: 0.5429 - val_loss: 1.0843 - val_accuracy: 0.5760\n",
            "Epoch 6/200\n",
            "16/16 [==============================] - 1s 57ms/step - loss: 1.0751 - accuracy: 0.5528 - val_loss: 1.0786 - val_accuracy: 0.5760\n",
            "Epoch 7/200\n",
            "16/16 [==============================] - 1s 61ms/step - loss: 1.0664 - accuracy: 0.5779 - val_loss: 1.0721 - val_accuracy: 0.5720\n",
            "Epoch 8/200\n",
            "16/16 [==============================] - 1s 55ms/step - loss: 1.0588 - accuracy: 0.5880 - val_loss: 1.0660 - val_accuracy: 0.5960\n",
            "Epoch 9/200\n",
            "16/16 [==============================] - 1s 53ms/step - loss: 1.0498 - accuracy: 0.6038 - val_loss: 1.0593 - val_accuracy: 0.6060\n",
            "Epoch 10/200\n",
            "16/16 [==============================] - 1s 84ms/step - loss: 1.0432 - accuracy: 0.6016 - val_loss: 1.0538 - val_accuracy: 0.6290\n",
            "Epoch 11/200\n",
            "16/16 [==============================] - 2s 141ms/step - loss: 1.0366 - accuracy: 0.6071 - val_loss: 1.0476 - val_accuracy: 0.6180\n",
            "Epoch 12/200\n",
            "16/16 [==============================] - 3s 165ms/step - loss: 1.0285 - accuracy: 0.6166 - val_loss: 1.0422 - val_accuracy: 0.6430\n",
            "Epoch 13/200\n",
            "16/16 [==============================] - 3s 165ms/step - loss: 1.0206 - accuracy: 0.6339 - val_loss: 1.0352 - val_accuracy: 0.6490\n",
            "Epoch 14/200\n",
            "16/16 [==============================] - 2s 122ms/step - loss: 1.0138 - accuracy: 0.6331 - val_loss: 1.0295 - val_accuracy: 0.6470\n",
            "Epoch 15/200\n",
            "16/16 [==============================] - 1s 84ms/step - loss: 1.0026 - accuracy: 0.6391 - val_loss: 1.0231 - val_accuracy: 0.6530\n",
            "Epoch 16/200\n",
            "16/16 [==============================] - 1s 94ms/step - loss: 0.9977 - accuracy: 0.6480 - val_loss: 1.0174 - val_accuracy: 0.6650\n",
            "Epoch 17/200\n",
            "16/16 [==============================] - 1s 81ms/step - loss: 0.9907 - accuracy: 0.6468 - val_loss: 1.0115 - val_accuracy: 0.6560\n",
            "Epoch 18/200\n",
            "16/16 [==============================] - 1s 91ms/step - loss: 0.9777 - accuracy: 0.6625 - val_loss: 1.0057 - val_accuracy: 0.6660\n",
            "Epoch 19/200\n",
            "16/16 [==============================] - 1s 94ms/step - loss: 0.9757 - accuracy: 0.6642 - val_loss: 0.9996 - val_accuracy: 0.6690\n",
            "Epoch 20/200\n",
            "16/16 [==============================] - 2s 129ms/step - loss: 0.9669 - accuracy: 0.6685 - val_loss: 0.9929 - val_accuracy: 0.6800\n",
            "Epoch 21/200\n",
            "16/16 [==============================] - 2s 143ms/step - loss: 0.9563 - accuracy: 0.6771 - val_loss: 0.9878 - val_accuracy: 0.6710\n",
            "Epoch 22/200\n",
            "16/16 [==============================] - 2s 106ms/step - loss: 0.9513 - accuracy: 0.6765 - val_loss: 0.9816 - val_accuracy: 0.6770\n",
            "Epoch 23/200\n",
            "16/16 [==============================] - 1s 90ms/step - loss: 0.9441 - accuracy: 0.6833 - val_loss: 0.9773 - val_accuracy: 0.6700\n",
            "Epoch 24/200\n",
            "16/16 [==============================] - 1s 86ms/step - loss: 0.9360 - accuracy: 0.6927 - val_loss: 0.9702 - val_accuracy: 0.6930\n",
            "Epoch 25/200\n",
            "16/16 [==============================] - 1s 85ms/step - loss: 0.9278 - accuracy: 0.6924 - val_loss: 0.9649 - val_accuracy: 0.6980\n",
            "Epoch 26/200\n",
            "16/16 [==============================] - 1s 70ms/step - loss: 0.9220 - accuracy: 0.6950 - val_loss: 0.9606 - val_accuracy: 0.6870\n",
            "Epoch 27/200\n",
            "16/16 [==============================] - 1s 55ms/step - loss: 0.9122 - accuracy: 0.7014 - val_loss: 0.9536 - val_accuracy: 0.6990\n",
            "Epoch 28/200\n",
            "16/16 [==============================] - 1s 55ms/step - loss: 0.9085 - accuracy: 0.7007 - val_loss: 0.9493 - val_accuracy: 0.6960\n",
            "Epoch 29/200\n",
            "16/16 [==============================] - 1s 54ms/step - loss: 0.9030 - accuracy: 0.7019 - val_loss: 0.9449 - val_accuracy: 0.6920\n",
            "Epoch 30/200\n",
            "16/16 [==============================] - 1s 58ms/step - loss: 0.8912 - accuracy: 0.7099 - val_loss: 0.9396 - val_accuracy: 0.6910\n",
            "Epoch 31/200\n",
            "16/16 [==============================] - 1s 55ms/step - loss: 0.8880 - accuracy: 0.7090 - val_loss: 0.9335 - val_accuracy: 0.6930\n",
            "Epoch 32/200\n",
            "16/16 [==============================] - 1s 56ms/step - loss: 0.8796 - accuracy: 0.7057 - val_loss: 0.9286 - val_accuracy: 0.7020\n",
            "Epoch 33/200\n",
            "16/16 [==============================] - 1s 59ms/step - loss: 0.8743 - accuracy: 0.7106 - val_loss: 0.9250 - val_accuracy: 0.6920\n",
            "Epoch 34/200\n",
            "16/16 [==============================] - 1s 55ms/step - loss: 0.8695 - accuracy: 0.7111 - val_loss: 0.9192 - val_accuracy: 0.6940\n",
            "Epoch 35/200\n",
            "16/16 [==============================] - 1s 55ms/step - loss: 0.8615 - accuracy: 0.7192 - val_loss: 0.9160 - val_accuracy: 0.6940\n",
            "Epoch 36/200\n",
            "16/16 [==============================] - 1s 55ms/step - loss: 0.8493 - accuracy: 0.7320 - val_loss: 0.9108 - val_accuracy: 0.6880\n",
            "Epoch 37/200\n",
            "16/16 [==============================] - 1s 69ms/step - loss: 0.8437 - accuracy: 0.7288 - val_loss: 0.9087 - val_accuracy: 0.6910\n",
            "Epoch 38/200\n",
            "16/16 [==============================] - 1s 89ms/step - loss: 0.8360 - accuracy: 0.7339 - val_loss: 0.9021 - val_accuracy: 0.6870\n",
            "Epoch 39/200\n",
            "16/16 [==============================] - 1s 87ms/step - loss: 0.8310 - accuracy: 0.7370 - val_loss: 0.8971 - val_accuracy: 0.7000\n",
            "Epoch 40/200\n",
            "16/16 [==============================] - 1s 90ms/step - loss: 0.8309 - accuracy: 0.7302 - val_loss: 0.8925 - val_accuracy: 0.6960\n",
            "Epoch 41/200\n",
            "16/16 [==============================] - 1s 89ms/step - loss: 0.8232 - accuracy: 0.7320 - val_loss: 0.8904 - val_accuracy: 0.6870\n",
            "Epoch 42/200\n",
            "16/16 [==============================] - 1s 89ms/step - loss: 0.8192 - accuracy: 0.7324 - val_loss: 0.8841 - val_accuracy: 0.7050\n",
            "Epoch 43/200\n",
            "16/16 [==============================] - 1s 67ms/step - loss: 0.8126 - accuracy: 0.7384 - val_loss: 0.8820 - val_accuracy: 0.6930\n",
            "Epoch 44/200\n",
            "16/16 [==============================] - 1s 53ms/step - loss: 0.8028 - accuracy: 0.7461 - val_loss: 0.8766 - val_accuracy: 0.7020\n",
            "Epoch 45/200\n",
            "16/16 [==============================] - 1s 54ms/step - loss: 0.7944 - accuracy: 0.7404 - val_loss: 0.8723 - val_accuracy: 0.7060\n",
            "Epoch 46/200\n",
            "16/16 [==============================] - 1s 55ms/step - loss: 0.7868 - accuracy: 0.7450 - val_loss: 0.8684 - val_accuracy: 0.7010\n",
            "Epoch 47/200\n",
            "16/16 [==============================] - 1s 56ms/step - loss: 0.7848 - accuracy: 0.7468 - val_loss: 0.8659 - val_accuracy: 0.6950\n",
            "Epoch 48/200\n",
            "16/16 [==============================] - 1s 55ms/step - loss: 0.7781 - accuracy: 0.7500 - val_loss: 0.8627 - val_accuracy: 0.6920\n",
            "Epoch 49/200\n",
            "16/16 [==============================] - 1s 61ms/step - loss: 0.7731 - accuracy: 0.7524 - val_loss: 0.8562 - val_accuracy: 0.6990\n",
            "Epoch 50/200\n",
            "16/16 [==============================] - 1s 56ms/step - loss: 0.7593 - accuracy: 0.7578 - val_loss: 0.8535 - val_accuracy: 0.6940\n",
            "Epoch 51/200\n",
            "16/16 [==============================] - 1s 53ms/step - loss: 0.7618 - accuracy: 0.7491 - val_loss: 0.8486 - val_accuracy: 0.6970\n",
            "Epoch 52/200\n",
            "16/16 [==============================] - 1s 57ms/step - loss: 0.7539 - accuracy: 0.7517 - val_loss: 0.8450 - val_accuracy: 0.7020\n",
            "Epoch 53/200\n",
            "16/16 [==============================] - 1s 63ms/step - loss: 0.7543 - accuracy: 0.7526 - val_loss: 0.8431 - val_accuracy: 0.6970\n",
            "Epoch 54/200\n",
            "16/16 [==============================] - 1s 73ms/step - loss: 0.7431 - accuracy: 0.7582 - val_loss: 0.8413 - val_accuracy: 0.6970\n",
            "Epoch 55/200\n",
            "16/16 [==============================] - 1s 89ms/step - loss: 0.7319 - accuracy: 0.7640 - val_loss: 0.8370 - val_accuracy: 0.6980\n",
            "Epoch 56/200\n",
            "16/16 [==============================] - 1s 87ms/step - loss: 0.7341 - accuracy: 0.7601 - val_loss: 0.8358 - val_accuracy: 0.6900\n",
            "Epoch 57/200\n",
            "16/16 [==============================] - 1s 91ms/step - loss: 0.7332 - accuracy: 0.7558 - val_loss: 0.8324 - val_accuracy: 0.6940\n",
            "Epoch 58/200\n",
            "16/16 [==============================] - 1s 89ms/step - loss: 0.7246 - accuracy: 0.7634 - val_loss: 0.8276 - val_accuracy: 0.6980\n",
            "Epoch 59/200\n",
            "16/16 [==============================] - 1s 90ms/step - loss: 0.7172 - accuracy: 0.7676 - val_loss: 0.8239 - val_accuracy: 0.6960\n",
            "Epoch 60/200\n",
            "16/16 [==============================] - 1s 62ms/step - loss: 0.7159 - accuracy: 0.7660 - val_loss: 0.8263 - val_accuracy: 0.6910\n",
            "Epoch 61/200\n",
            "16/16 [==============================] - 1s 56ms/step - loss: 0.7169 - accuracy: 0.7623 - val_loss: 0.8203 - val_accuracy: 0.6990\n",
            "Epoch 62/200\n",
            "16/16 [==============================] - 1s 57ms/step - loss: 0.7085 - accuracy: 0.7658 - val_loss: 0.8168 - val_accuracy: 0.6960\n",
            "Epoch 63/200\n",
            "16/16 [==============================] - 1s 60ms/step - loss: 0.7021 - accuracy: 0.7667 - val_loss: 0.8136 - val_accuracy: 0.6990\n",
            "Epoch 64/200\n",
            "16/16 [==============================] - 1s 55ms/step - loss: 0.6993 - accuracy: 0.7665 - val_loss: 0.8162 - val_accuracy: 0.6990\n",
            "Epoch 65/200\n",
            "16/16 [==============================] - 1s 55ms/step - loss: 0.6955 - accuracy: 0.7692 - val_loss: 0.8129 - val_accuracy: 0.6970\n",
            "Epoch 66/200\n",
            "16/16 [==============================] - 1s 54ms/step - loss: 0.6926 - accuracy: 0.7693 - val_loss: 0.8071 - val_accuracy: 0.6980\n",
            "Epoch 67/200\n",
            "16/16 [==============================] - 1s 57ms/step - loss: 0.6789 - accuracy: 0.7760 - val_loss: 0.8071 - val_accuracy: 0.6920\n",
            "Epoch 68/200\n",
            "16/16 [==============================] - 1s 57ms/step - loss: 0.6795 - accuracy: 0.7718 - val_loss: 0.8052 - val_accuracy: 0.6960\n",
            "Epoch 69/200\n",
            "16/16 [==============================] - 2s 110ms/step - loss: 0.6874 - accuracy: 0.7704 - val_loss: 0.8018 - val_accuracy: 0.6970\n",
            "Epoch 70/200\n",
            "16/16 [==============================] - 1s 72ms/step - loss: 0.6806 - accuracy: 0.7675 - val_loss: 0.8022 - val_accuracy: 0.6990\n",
            "Epoch 71/200\n",
            "16/16 [==============================] - 1s 89ms/step - loss: 0.6578 - accuracy: 0.7897 - val_loss: 0.7996 - val_accuracy: 0.7020\n",
            "Epoch 72/200\n",
            "16/16 [==============================] - 1s 84ms/step - loss: 0.6646 - accuracy: 0.7792 - val_loss: 0.7974 - val_accuracy: 0.6960\n",
            "Epoch 73/200\n",
            "16/16 [==============================] - 1s 90ms/step - loss: 0.6576 - accuracy: 0.7795 - val_loss: 0.7960 - val_accuracy: 0.7050\n",
            "Epoch 74/200\n",
            "16/16 [==============================] - 1s 86ms/step - loss: 0.6644 - accuracy: 0.7775 - val_loss: 0.7973 - val_accuracy: 0.7000\n",
            "Epoch 75/200\n",
            "16/16 [==============================] - 1s 84ms/step - loss: 0.6621 - accuracy: 0.7734 - val_loss: 0.7982 - val_accuracy: 0.7000\n",
            "Epoch 76/200\n",
            "16/16 [==============================] - 1s 77ms/step - loss: 0.6503 - accuracy: 0.7825 - val_loss: 0.7986 - val_accuracy: 0.7020\n",
            "Epoch 77/200\n",
            "16/16 [==============================] - 1s 58ms/step - loss: 0.6483 - accuracy: 0.7830 - val_loss: 0.7961 - val_accuracy: 0.7100\n",
            "Epoch 78/200\n",
            "16/16 [==============================] - 1s 58ms/step - loss: 0.6482 - accuracy: 0.7845 - val_loss: 0.7969 - val_accuracy: 0.6990\n"
          ]
        }
      ],
      "source": [
        "history = model.fit(partial_x_train,\n",
        "                    partial_y_train,\n",
        "                    epochs=200,\n",
        "                    batch_size=512,\n",
        "                    validation_data=(x_val, y_val),\n",
        "                    callbacks = callback)"
      ]
    },
    {
      "attachments": {},
      "cell_type": "markdown",
      "metadata": {
        "id": "V2-SnDAii36o"
      },
      "source": [
        "Se grafica a loss y a accuracy."
      ]
    },
    {
      "cell_type": "code",
      "execution_count": null,
      "metadata": {
        "colab": {
          "base_uri": "https://localhost:8080/"
        },
        "id": "5plZF9CyOyAY",
        "outputId": "e7fcd992-bc49-4c2a-f56a-76b0a68a81f3"
      },
      "outputs": [
        {
          "name": "stdout",
          "output_type": "stream",
          "text": [
            "La mejor época fue la 77 con una precisión de validación de 0.71\n"
          ]
        }
      ],
      "source": [
        "best_epoch = np.argmax(history.history['val_accuracy']) + 1\n",
        "print(f\"La mejor época fue la {best_epoch} con una precisión de validación de {round(history.history['val_accuracy'][best_epoch-1],2)}\")\n"
      ]
    },
    {
      "cell_type": "code",
      "execution_count": null,
      "metadata": {
        "colab": {
          "base_uri": "https://localhost:8080/",
          "height": 472
        },
        "id": "n4Oag125PLJo",
        "outputId": "2bb2470f-fada-4031-98ec-062ea08aba17"
      },
      "outputs": [
        {
          "data": {
            "image/png": "[encoded data removed]",
            "text/plain": [
              "<Figure size 640x480 with 1 Axes>"
            ]
          },
          "metadata": {},
          "output_type": "display_data"
        }
      ],
      "source": [
        "loss = history.history[\"loss\"]\n",
        "val_loss = history.history[\"val_loss\"]\n",
        "epochs = range(1, len(loss) + 1)\n",
        "plt.plot(epochs, loss, \"bo\", label=\"Training loss\")\n",
        "plt.plot(epochs, val_loss, \"b\", label=\"Validation loss\")\n",
        "plt.title(\"Training and validation loss\")\n",
        "plt.xlabel(\"Epochs\")\n",
        "plt.ylabel(\"Loss\")\n",
        "plt.legend()\n",
        "plt.show()"
      ]
    },
    {
      "cell_type": "code",
      "execution_count": null,
      "metadata": {
        "colab": {
          "base_uri": "https://localhost:8080/",
          "height": 472
        },
        "id": "ikV401MCQbXE",
        "outputId": "fb2ead34-6df6-42c1-c800-17c1d896d4d3"
      },
      "outputs": [
        {
          "data": {
            "image/png": "[encoded data removed]",
            "text/plain": [
              "<Figure size 640x480 with 1 Axes>"
            ]
          },
          "metadata": {},
          "output_type": "display_data"
        }
      ],
      "source": [
        "plt.clf()\n",
        "acc = history.history[\"accuracy\"]\n",
        "val_acc = history.history[\"val_accuracy\"]\n",
        "plt.plot(epochs, acc, \"bo\", label=\"Training accuracy\")\n",
        "plt.plot(epochs, val_acc, \"b\", label=\"Validation accuracy\")\n",
        "plt.title(\"Training and validation accuracy\")\n",
        "plt.xlabel(\"Epochs\")\n",
        "plt.ylabel(\"Accuracy\")\n",
        "plt.legend()\n",
        "plt.show()"
      ]
    },
    {
      "attachments": {},
      "cell_type": "markdown",
      "metadata": {
        "id": "_5htq4vAi_mJ"
      },
      "source": [
        "#Se entrena a el modelo final con todos los datos."
      ]
    },
    {
      "cell_type": "code",
      "execution_count": null,
      "metadata": {
        "colab": {
          "base_uri": "https://localhost:8080/"
        },
        "id": "UTEgNA14Pa13",
        "outputId": "dd29898c-33f4-48d4-b7cc-2969540d923d"
      },
      "outputs": [
        {
          "name": "stdout",
          "output_type": "stream",
          "text": [
            "Epoch 1/77\n",
            "17/17 [==============================] - 2s 59ms/step - loss: 1.1101 - accuracy: 0.3479\n",
            "Epoch 2/77\n",
            "17/17 [==============================] - 1s 54ms/step - loss: 1.1008 - accuracy: 0.4016\n",
            "Epoch 3/77\n",
            "17/17 [==============================] - 1s 53ms/step - loss: 1.0912 - accuracy: 0.4290\n",
            "Epoch 4/77\n",
            "17/17 [==============================] - 1s 51ms/step - loss: 1.0819 - accuracy: 0.4706\n",
            "Epoch 5/77\n",
            "17/17 [==============================] - 1s 73ms/step - loss: 1.0720 - accuracy: 0.4958\n",
            "Epoch 6/77\n",
            "17/17 [==============================] - 1s 78ms/step - loss: 1.0610 - accuracy: 0.5063\n",
            "Epoch 7/77\n",
            "17/17 [==============================] - 1s 76ms/step - loss: 1.0525 - accuracy: 0.5221\n",
            "Epoch 8/77\n",
            "17/17 [==============================] - 1s 81ms/step - loss: 1.0444 - accuracy: 0.5404\n",
            "Epoch 9/77\n",
            "17/17 [==============================] - 1s 78ms/step - loss: 1.0365 - accuracy: 0.5554\n",
            "Epoch 10/77\n",
            "17/17 [==============================] - 1s 81ms/step - loss: 1.0259 - accuracy: 0.5777\n",
            "Epoch 11/77\n",
            "17/17 [==============================] - 1s 73ms/step - loss: 1.0172 - accuracy: 0.5952\n",
            "Epoch 12/77\n",
            "17/17 [==============================] - 1s 53ms/step - loss: 1.0083 - accuracy: 0.6028\n",
            "Epoch 13/77\n",
            "17/17 [==============================] - 1s 53ms/step - loss: 0.9990 - accuracy: 0.6110\n",
            "Epoch 14/77\n",
            "17/17 [==============================] - 1s 53ms/step - loss: 0.9883 - accuracy: 0.6178\n",
            "Epoch 15/77\n",
            "17/17 [==============================] - 1s 50ms/step - loss: 0.9807 - accuracy: 0.6313\n",
            "Epoch 16/77\n",
            "17/17 [==============================] - 1s 50ms/step - loss: 0.9683 - accuracy: 0.6424\n",
            "Epoch 17/77\n",
            "17/17 [==============================] - 1s 53ms/step - loss: 0.9651 - accuracy: 0.6436\n",
            "Epoch 18/77\n",
            "17/17 [==============================] - 1s 52ms/step - loss: 0.9542 - accuracy: 0.6573\n",
            "Epoch 19/77\n",
            "17/17 [==============================] - 1s 51ms/step - loss: 0.9450 - accuracy: 0.6592\n",
            "Epoch 20/77\n",
            "17/17 [==============================] - 1s 51ms/step - loss: 0.9302 - accuracy: 0.6768\n",
            "Epoch 21/77\n",
            "17/17 [==============================] - 1s 50ms/step - loss: 0.9259 - accuracy: 0.6727\n",
            "Epoch 22/77\n",
            "17/17 [==============================] - 1s 50ms/step - loss: 0.9205 - accuracy: 0.6738\n",
            "Epoch 23/77\n",
            "17/17 [==============================] - 1s 72ms/step - loss: 0.9155 - accuracy: 0.6779\n",
            "Epoch 24/77\n",
            "17/17 [==============================] - 1s 83ms/step - loss: 0.9046 - accuracy: 0.6888\n",
            "Epoch 25/77\n",
            "17/17 [==============================] - 1s 82ms/step - loss: 0.8960 - accuracy: 0.6875\n",
            "Epoch 26/77\n",
            "17/17 [==============================] - 1s 82ms/step - loss: 0.8805 - accuracy: 0.7011\n",
            "Epoch 27/77\n",
            "17/17 [==============================] - 1s 81ms/step - loss: 0.8775 - accuracy: 0.6974\n",
            "Epoch 28/77\n",
            "17/17 [==============================] - 1s 84ms/step - loss: 0.8699 - accuracy: 0.7004\n",
            "Epoch 29/77\n",
            "17/17 [==============================] - 2s 111ms/step - loss: 0.8665 - accuracy: 0.7002\n",
            "Epoch 30/77\n",
            "17/17 [==============================] - 1s 52ms/step - loss: 0.8623 - accuracy: 0.7020\n",
            "Epoch 31/77\n",
            "17/17 [==============================] - 1s 55ms/step - loss: 0.8508 - accuracy: 0.7117\n",
            "Epoch 32/77\n",
            "17/17 [==============================] - 1s 53ms/step - loss: 0.8461 - accuracy: 0.7111\n",
            "Epoch 33/77\n",
            "17/17 [==============================] - 1s 52ms/step - loss: 0.8309 - accuracy: 0.7204\n",
            "Epoch 34/77\n",
            "17/17 [==============================] - 1s 52ms/step - loss: 0.8303 - accuracy: 0.7143\n",
            "Epoch 35/77\n",
            "17/17 [==============================] - 1s 53ms/step - loss: 0.8214 - accuracy: 0.7262\n",
            "Epoch 36/77\n",
            "17/17 [==============================] - 1s 53ms/step - loss: 0.8123 - accuracy: 0.7361\n",
            "Epoch 37/77\n",
            "17/17 [==============================] - 1s 54ms/step - loss: 0.8039 - accuracy: 0.7311\n",
            "Epoch 38/77\n",
            "17/17 [==============================] - 1s 53ms/step - loss: 0.8031 - accuracy: 0.7331\n",
            "Epoch 39/77\n",
            "17/17 [==============================] - 1s 66ms/step - loss: 0.7962 - accuracy: 0.7386\n",
            "Epoch 40/77\n",
            "17/17 [==============================] - 1s 78ms/step - loss: 0.7895 - accuracy: 0.7361\n",
            "Epoch 41/77\n",
            "17/17 [==============================] - 1s 83ms/step - loss: 0.7851 - accuracy: 0.7408\n",
            "Epoch 42/77\n",
            "17/17 [==============================] - 1s 80ms/step - loss: 0.7765 - accuracy: 0.7453\n",
            "Epoch 43/77\n",
            "17/17 [==============================] - 2s 113ms/step - loss: 0.7703 - accuracy: 0.7433\n",
            "Epoch 44/77\n",
            "17/17 [==============================] - 2s 116ms/step - loss: 0.7560 - accuracy: 0.7524\n",
            "Epoch 45/77\n",
            "17/17 [==============================] - 1s 80ms/step - loss: 0.7602 - accuracy: 0.7486\n",
            "Epoch 46/77\n",
            "17/17 [==============================] - 2s 92ms/step - loss: 0.7541 - accuracy: 0.7477\n",
            "Epoch 47/77\n",
            "17/17 [==============================] - 2s 104ms/step - loss: 0.7438 - accuracy: 0.7563\n",
            "Epoch 48/77\n",
            "17/17 [==============================] - 2s 97ms/step - loss: 0.7443 - accuracy: 0.7534\n",
            "Epoch 49/77\n",
            "17/17 [==============================] - 2s 106ms/step - loss: 0.7396 - accuracy: 0.7488\n",
            "Epoch 50/77\n",
            "17/17 [==============================] - 2s 93ms/step - loss: 0.7364 - accuracy: 0.7528\n",
            "Epoch 51/77\n",
            "17/17 [==============================] - 2s 127ms/step - loss: 0.7255 - accuracy: 0.7638\n",
            "Epoch 52/77\n",
            "17/17 [==============================] - 3s 190ms/step - loss: 0.7154 - accuracy: 0.7637\n",
            "Epoch 53/77\n",
            "17/17 [==============================] - 3s 180ms/step - loss: 0.7176 - accuracy: 0.7602\n",
            "Epoch 54/77\n",
            "17/17 [==============================] - 2s 118ms/step - loss: 0.7137 - accuracy: 0.7573\n",
            "Epoch 55/77\n",
            "17/17 [==============================] - 2s 113ms/step - loss: 0.7135 - accuracy: 0.7581\n",
            "Epoch 56/77\n",
            "17/17 [==============================] - 2s 100ms/step - loss: 0.6930 - accuracy: 0.7730\n",
            "Epoch 57/77\n",
            "17/17 [==============================] - 1s 85ms/step - loss: 0.7012 - accuracy: 0.7635\n",
            "Epoch 58/77\n",
            "17/17 [==============================] - 1s 81ms/step - loss: 0.7025 - accuracy: 0.7652\n",
            "Epoch 59/77\n",
            "17/17 [==============================] - 1s 81ms/step - loss: 0.6976 - accuracy: 0.7709\n",
            "Epoch 60/77\n",
            "17/17 [==============================] - 2s 102ms/step - loss: 0.6825 - accuracy: 0.7738\n",
            "Epoch 61/77\n",
            "17/17 [==============================] - 2s 120ms/step - loss: 0.6745 - accuracy: 0.7757\n",
            "Epoch 62/77\n",
            "17/17 [==============================] - 2s 103ms/step - loss: 0.6829 - accuracy: 0.7687\n",
            "Epoch 63/77\n",
            "17/17 [==============================] - 1s 85ms/step - loss: 0.6700 - accuracy: 0.7754\n",
            "Epoch 64/77\n",
            "17/17 [==============================] - 2s 129ms/step - loss: 0.6732 - accuracy: 0.7721\n",
            "Epoch 65/77\n",
            "17/17 [==============================] - 2s 116ms/step - loss: 0.6636 - accuracy: 0.7795\n",
            "Epoch 66/77\n",
            "17/17 [==============================] - 2s 97ms/step - loss: 0.6616 - accuracy: 0.7801\n",
            "Epoch 67/77\n",
            "17/17 [==============================] - 2s 99ms/step - loss: 0.6490 - accuracy: 0.7821\n",
            "Epoch 68/77\n",
            "17/17 [==============================] - 2s 99ms/step - loss: 0.6579 - accuracy: 0.7763\n",
            "Epoch 69/77\n",
            "17/17 [==============================] - 2s 89ms/step - loss: 0.6516 - accuracy: 0.7787\n",
            "Epoch 70/77\n",
            "17/17 [==============================] - 1s 86ms/step - loss: 0.6421 - accuracy: 0.7833\n",
            "Epoch 71/77\n",
            "17/17 [==============================] - 2s 101ms/step - loss: 0.6475 - accuracy: 0.7786\n",
            "Epoch 72/77\n",
            "17/17 [==============================] - 2s 110ms/step - loss: 0.6373 - accuracy: 0.7819\n",
            "Epoch 73/77\n",
            "17/17 [==============================] - 2s 107ms/step - loss: 0.6410 - accuracy: 0.7833\n",
            "Epoch 74/77\n",
            "17/17 [==============================] - 2s 110ms/step - loss: 0.6381 - accuracy: 0.7819\n",
            "Epoch 75/77\n",
            "17/17 [==============================] - 2s 100ms/step - loss: 0.6271 - accuracy: 0.7863\n",
            "Epoch 76/77\n",
            "17/17 [==============================] - 1s 72ms/step - loss: 0.6318 - accuracy: 0.7819\n",
            "Epoch 77/77\n",
            "17/17 [==============================] - 1s 64ms/step - loss: 0.6307 - accuracy: 0.7824\n"
          ]
        },
        {
          "data": {
            "text/plain": [
              "<keras.src.callbacks.History at 0x7822265b5f30>"
            ]
          },
          "execution_count": 82,
          "metadata": {},
          "output_type": "execute_result"
        }
      ],
      "source": [
        "kmodel = keras.Sequential([\n",
        "  layers.Dense(8, activation=\"relu\", kernel_regularizer = regularizers.l2(l2 = 0.001)),\n",
        "    layers.Dropout(0.5),\n",
        "    layers.Dense(4, activation=\"relu\"),\n",
        "    layers.Dropout(0.25),\n",
        "    layers.Dense(3, activation=\"softmax\")\n",
        "])\n",
        "kmodel.compile(optimizer=\"rmsprop\",\n",
        "              loss=\"categorical_crossentropy\",\n",
        "              metrics=[\"accuracy\"])\n",
        "kmodel.fit(x_train,\n",
        "          y_train,\n",
        "          epochs=best_epoch,\n",
        "          batch_size=512)"
      ]
    },
    {
      "cell_type": "code",
      "execution_count": null,
      "metadata": {
        "colab": {
          "base_uri": "https://localhost:8080/"
        },
        "id": "nRBC9mT-QQGT",
        "outputId": "3272c964-65a8-4818-c6e8-adac2c92e2a4"
      },
      "outputs": [
        {
          "name": "stdout",
          "output_type": "stream",
          "text": [
            "50/50 [==============================] - 0s 5ms/step - loss: 0.5538 - accuracy: 0.8310\n"
          ]
        }
      ],
      "source": [
        "results = kmodel.evaluate(x_test, y_test)"
      ]
    }
  ],
  "metadata": {
    "colab": {
      "provenance": []
    },
    "kernelspec": {
      "display_name": "Python 3",
      "name": "python3"
    },
    "language_info": {
      "codemirror_mode": {
        "name": "ipython",
        "version": 3
      },
      "file_extension": ".py",
      "mimetype": "text/x-python",
      "name": "python",
      "nbconvert_exporter": "python",
      "pygments_lexer": "ipython3",
      "version": "3.12.0"
    }
  },
  "nbformat": 4,
  "nbformat_minor": 0
}
